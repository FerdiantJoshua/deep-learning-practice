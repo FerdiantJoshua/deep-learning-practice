{
 "cells": [
  {
   "cell_type": "markdown",
   "metadata": {},
   "source": [
    "# Preparation"
   ]
  },
  {
   "cell_type": "code",
   "execution_count": 1,
   "metadata": {},
   "outputs": [
    {
     "name": "stdout",
     "output_type": "stream",
     "text": [
      "['/device:CPU:0', '/device:XLA_CPU:0', '/device:XLA_GPU:0']\n"
     ]
    }
   ],
   "source": [
    "import sys\n",
    "sys.version\n",
    "\n",
    "from tensorflow.python.client import device_lib\n",
    "def get_available_devices():\n",
    "    local_device_protos = device_lib.list_local_devices()\n",
    "    return [x.name for x in local_device_protos]\n",
    "print(get_available_devices()) "
   ]
  },
  {
   "cell_type": "code",
   "execution_count": 4,
   "metadata": {},
   "outputs": [],
   "source": [
    "import datetime\n",
    "import time\n",
    "\n",
    "import matplotlib.pyplot as plt\n",
    "from nltk.corpus import stopwords\n",
    "import numpy as np\n",
    "import pandas as pd\n",
    "import tensorflow as tf\n",
    "from tensorflow.keras.preprocessing.sequence import pad_sequences\n",
    "import tensorflow_datasets as tfds\n",
    "from unidecode import unidecode\n",
    "\n",
    "from util.tokenizer import Tokenizer\n",
    "\n",
    "%load_ext tensorboard"
   ]
  },
  {
   "cell_type": "code",
   "execution_count": 5,
   "metadata": {},
   "outputs": [
    {
     "name": "stdout",
     "output_type": "stream",
     "text": [
      "Version: 2.3.0\n",
      "Eager mode: True\n",
      "Is built with cuda? True\n",
      "Is built with gpu support? True\n",
      "Devices list:\n",
      "['/device:CPU:0', '/device:XLA_CPU:0', '/device:XLA_GPU:0']\n",
      "Num GPUs Available:  0\n"
     ]
    }
   ],
   "source": [
    "print('Version:', tf.__version__)\n",
    "print('Eager mode:', tf.executing_eagerly())\n",
    "print('Is built with cuda?', tf.test.is_built_with_cuda())\n",
    "print('Is built with gpu support?', tf.test.is_built_with_gpu_support())\n",
    "\n",
    "print('Devices list:')\n",
    "from tensorflow.python.client import device_lib\n",
    "def get_available_devices():\n",
    "    local_device_protos = device_lib.list_local_devices()\n",
    "    return [x.name for x in local_device_protos]\n",
    "print(get_available_devices())\n",
    "\n",
    "print(\"Num GPUs Available: \", len(tf.config.experimental.list_physical_devices('GPU')))"
   ]
  },
  {
   "cell_type": "markdown",
   "metadata": {},
   "source": [
    "# Data Load"
   ]
  },
  {
   "cell_type": "code",
   "execution_count": 6,
   "metadata": {},
   "outputs": [
    {
     "name": "stdout",
     "output_type": "stream",
     "text": [
      "Label info:\n",
      "2\n",
      "['neg', 'pos']\n",
      "neg\n",
      "1\n",
      "\n",
      "Feature info:\n",
      "{'text': (), 'label': ()}\n",
      "{'text': tf.string, 'label': tf.int64}\n",
      "()\n",
      "<dtype: 'string'>\n",
      "\n",
      "Datasplit info:\n",
      "dict_keys(['test', 'train', 'unsupervised'])\n",
      "25000\n",
      "['imdb_reviews-train.tfrecord-00000-of-00001']\n",
      "1\n"
     ]
    }
   ],
   "source": [
    "imdb_reviews, info = tfds.load('imdb_reviews', with_info=True)\n",
    "# ds = ds.shuffle(1024).batch(32).prefetch(tf.data.experimental.AUTOTUNE)\n",
    "\n",
    "print('Label info:')\n",
    "print(info.features[\"label\"].num_classes)\n",
    "print(info.features[\"label\"].names)\n",
    "print(info.features[\"label\"].int2str(0))  # Human readable version (8 -> 'cat')\n",
    "print(info.features[\"label\"].str2int('pos'))\n",
    "\n",
    "print()\n",
    "print('Feature info:')\n",
    "print(info.features.shape)\n",
    "print(info.features.dtype)\n",
    "print(info.features['text'].shape)\n",
    "print(info.features['text'].dtype)\n",
    "\n",
    "print()\n",
    "print('Datasplit info:')\n",
    "print(info.splits.keys())\n",
    "print(info.splits['train'].num_examples)\n",
    "print(info.splits['train'].filenames)\n",
    "print(info.splits['train'].num_shards)"
   ]
  },
  {
   "cell_type": "code",
   "execution_count": 7,
   "metadata": {},
   "outputs": [
    {
     "name": "stdout",
     "output_type": "stream",
     "text": [
      "20000\n",
      "5000\n",
      "25000\n"
     ]
    }
   ],
   "source": [
    "SPLIT_PERCENT = 80\n",
    "\n",
    "imdb_train = tfds.load('imdb_reviews', split=f'train[:{SPLIT_PERCENT}%]', as_supervised=True)\n",
    "imdb_val = tfds.load('imdb_reviews', split=f'train[{SPLIT_PERCENT}%:]', as_supervised=True)\n",
    "imdb_test = tfds.load('imdb_reviews', split='test', as_supervised=True)\n",
    "\n",
    "print(len(imdb_train))\n",
    "print(len(imdb_val))\n",
    "print(len(imdb_test))"
   ]
  },
  {
   "cell_type": "markdown",
   "metadata": {},
   "source": [
    "# Preprocessing Functions"
   ]
  },
  {
   "cell_type": "code",
   "execution_count": 15,
   "metadata": {},
   "outputs": [],
   "source": [
    "STOPWORDS = stopwords.words('english')\n",
    "\n",
    "def remove_stopwords(text):\n",
    "    if isinstance(text, str):\n",
    "        tokenized_text = []\n",
    "        for token in text.split():\n",
    "            if token not in STOPWORDS: tokenized_text.append(token)\n",
    "        return ' '.join(tokenized_text)\n",
    "    else:\n",
    "        i = 0\n",
    "        tokenized_text = text\n",
    "        while i < len(tokenized_text):\n",
    "            if tokenized_text[i] in STOPWORDS:\n",
    "                tokenized_text.pop(i)\n",
    "            else:\n",
    "                i += 1\n",
    "        return tokenized_text"
   ]
  },
  {
   "cell_type": "markdown",
   "metadata": {},
   "source": [
    "# Data Analysis"
   ]
  },
  {
   "cell_type": "code",
   "execution_count": 18,
   "metadata": {},
   "outputs": [
    {
     "name": "stdout",
     "output_type": "stream",
     "text": [
      "Text: tf.Tensor(b\"This was an absolutely terrible movie. Don't be lured in by Christopher Walken or Michael Ironside. Both are great actors, but this must simply be their worst role in history. Even their great acting could not redeem this movie's ridiculous storyline. This movie is an early nineties US propaganda piece. The most pathetic scenes were those when the Columbian rebels were making their cases for revolutions. Maria Conchita Alonso appeared phony, and her pseudo-love affair with Walken was nothing but a pathetic emotional plug in a movie that was devoid of any real meaning. I am disappointed that there are movies like this, ruining actor's like Christopher Walken's good name. I could barely sit through it.\", shape=(), dtype=string)\n",
      "Label: tf.Tensor(0, shape=(), dtype=int64)\n",
      "\n",
      "Text: tf.Tensor(b'I have been known to fall asleep during films, but this is usually due to a combination of things including, really tired, being warm and comfortable on the sette and having just eaten a lot. However on this occasion I fell asleep because the film was rubbish. The plot development was constant. Constantly slow and boring. Things seemed to happen, but with no explanation of what was causing them or why. I admit, I may have missed part of the film, but i watched the majority of it and everything just seemed to happen of its own accord without any real concern for anything else. I cant recommend this film at all.', shape=(), dtype=string)\n",
      "Label: tf.Tensor(0, shape=(), dtype=int64)\n",
      "\n"
     ]
    }
   ],
   "source": [
    "for elm in imdb_train.take(2):\n",
    "    text, label = elm\n",
    "    print('Text:', text)\n",
    "    print('Label:', label)\n",
    "    print()"
   ]
  },
  {
   "cell_type": "code",
   "execution_count": 19,
   "metadata": {},
   "outputs": [
    {
     "name": "stdout",
     "output_type": "stream",
     "text": [
      "Train\n",
      "(20000,)\n",
      "(20000,)\n",
      "Val\n",
      "(5000,)\n",
      "(5000,)\n",
      "Test\n",
      "(25000,)\n",
      "(25000,)\n"
     ]
    }
   ],
   "source": [
    "print('Train')\n",
    "train_text = []\n",
    "train_label = []\n",
    "for text, label in tfds.as_numpy(imdb_train):\n",
    "    train_text.append(text.decode('utf-8'))\n",
    "    train_label.append(label)\n",
    "train_text = np.array(train_text)\n",
    "train_label = np.array(train_label)\n",
    "print(train_text.shape)\n",
    "print(train_label.shape)\n",
    "\n",
    "print('Val')\n",
    "val_text = []\n",
    "val_label = []\n",
    "for text, label in tfds.as_numpy(imdb_val):\n",
    "    val_text.append(text.decode('utf-8'))\n",
    "    val_label.append(label)\n",
    "val_text = np.array(val_text)\n",
    "val_label = np.array(val_label)\n",
    "print(val_text.shape)\n",
    "print(val_label.shape)\n",
    "\n",
    "print('Test')\n",
    "test_text = []\n",
    "test_label = []\n",
    "for text, label in tfds.as_numpy(imdb_test):\n",
    "    test_text.append(text.decode('utf-8'))\n",
    "    test_label.append(label)\n",
    "test_text = np.array(test_text)\n",
    "test_label = np.array(test_label)\n",
    "print(test_text.shape)\n",
    "print(test_label.shape)\n",
    "\n",
    "pd_train = pd.DataFrame(np.array([train_text, train_label]).T, columns=['text', 'label'])\n",
    "pd_val = pd.DataFrame(np.array([val_text, val_label]).T, columns=['text', 'label'])\n",
    "pd_test = pd.DataFrame(np.array([test_text, test_label]).T, columns=['text', 'label'])\n",
    "\n",
    "tok = Tokenizer()\n",
    "pd_train['approx_length'] = pd_train['text'].apply(lambda x: len(remove_stopwords(tok.tokenize(x))))\n",
    "pd_val['approx_length'] = pd_val['text'].apply(lambda x: len(remove_stopwords(tok.tokenize(x))))\n",
    "pd_test['approx_length'] = pd_test['text'].apply(lambda x: len(remove_stopwords(tok.tokenize(x))))"
   ]
  },
  {
   "cell_type": "code",
   "execution_count": 45,
   "metadata": {},
   "outputs": [],
   "source": [
    "pd_train['approx_length'] = pd_train['text'].apply(lambda x: len(remove_stopwords(tok.tokenize(x))))\n",
    "pd_val['approx_length'] = pd_val['text'].apply(lambda x: len(remove_stopwords(tok.tokenize(x))))\n",
    "pd_test['approx_length'] = pd_test['text'].apply(lambda x: len(remove_stopwords(tok.tokenize(x))))"
   ]
  },
  {
   "cell_type": "code",
   "execution_count": 46,
   "metadata": {},
   "outputs": [
    {
     "data": {
      "text/html": [
       "<div>\n",
       "<style scoped>\n",
       "    .dataframe tbody tr th:only-of-type {\n",
       "        vertical-align: middle;\n",
       "    }\n",
       "\n",
       "    .dataframe tbody tr th {\n",
       "        vertical-align: top;\n",
       "    }\n",
       "\n",
       "    .dataframe thead th {\n",
       "        text-align: right;\n",
       "    }\n",
       "</style>\n",
       "<table border=\"1\" class=\"dataframe\">\n",
       "  <thead>\n",
       "    <tr style=\"text-align: right;\">\n",
       "      <th></th>\n",
       "      <th>text</th>\n",
       "      <th>label</th>\n",
       "      <th>approx_length</th>\n",
       "    </tr>\n",
       "  </thead>\n",
       "  <tbody>\n",
       "    <tr>\n",
       "      <th>415</th>\n",
       "      <td>Waitress: Honey, here's them eggs you ordered....</td>\n",
       "      <td>0</td>\n",
       "      <td>1035</td>\n",
       "    </tr>\n",
       "    <tr>\n",
       "      <th>3108</th>\n",
       "      <td>Match 1: Tag Team Table Match Bubba Ray and Sp...</td>\n",
       "      <td>1</td>\n",
       "      <td>1822</td>\n",
       "    </tr>\n",
       "    <tr>\n",
       "      <th>3674</th>\n",
       "      <td>Titanic directed by James Cameron presents a f...</td>\n",
       "      <td>1</td>\n",
       "      <td>1160</td>\n",
       "    </tr>\n",
       "    <tr>\n",
       "      <th>3902</th>\n",
       "      <td>Warning: Does contain spoilers.&lt;br /&gt;&lt;br /&gt;Ope...</td>\n",
       "      <td>1</td>\n",
       "      <td>1097</td>\n",
       "    </tr>\n",
       "    <tr>\n",
       "      <th>12082</th>\n",
       "      <td>CitizenX(1995) is the developing world's answe...</td>\n",
       "      <td>1</td>\n",
       "      <td>1034</td>\n",
       "    </tr>\n",
       "    <tr>\n",
       "      <th>13305</th>\n",
       "      <td>*** Warning - this review contains \"plot spoil...</td>\n",
       "      <td>0</td>\n",
       "      <td>1067</td>\n",
       "    </tr>\n",
       "    <tr>\n",
       "      <th>15631</th>\n",
       "      <td>Some have praised _Atlantis:_The_Lost_Empire_ ...</td>\n",
       "      <td>0</td>\n",
       "      <td>1305</td>\n",
       "    </tr>\n",
       "    <tr>\n",
       "      <th>17928</th>\n",
       "      <td>Some have praised -Atlantis:-The Lost Empire- ...</td>\n",
       "      <td>0</td>\n",
       "      <td>1250</td>\n",
       "    </tr>\n",
       "    <tr>\n",
       "      <th>18676</th>\n",
       "      <td>This movie was recently released on DVD in the...</td>\n",
       "      <td>0</td>\n",
       "      <td>1087</td>\n",
       "    </tr>\n",
       "    <tr>\n",
       "      <th>19120</th>\n",
       "      <td>*!!- SPOILERS - !!*&lt;br /&gt;&lt;br /&gt;Before I begin ...</td>\n",
       "      <td>1</td>\n",
       "      <td>1430</td>\n",
       "    </tr>\n",
       "  </tbody>\n",
       "</table>\n",
       "</div>"
      ],
      "text/plain": [
       "                                                    text label  approx_length\n",
       "415    Waitress: Honey, here's them eggs you ordered....     0           1035\n",
       "3108   Match 1: Tag Team Table Match Bubba Ray and Sp...     1           1822\n",
       "3674   Titanic directed by James Cameron presents a f...     1           1160\n",
       "3902   Warning: Does contain spoilers.<br /><br />Ope...     1           1097\n",
       "12082  CitizenX(1995) is the developing world's answe...     1           1034\n",
       "13305  *** Warning - this review contains \"plot spoil...     0           1067\n",
       "15631  Some have praised _Atlantis:_The_Lost_Empire_ ...     0           1305\n",
       "17928  Some have praised -Atlantis:-The Lost Empire- ...     0           1250\n",
       "18676  This movie was recently released on DVD in the...     0           1087\n",
       "19120  *!!- SPOILERS - !!*<br /><br />Before I begin ...     1           1430"
      ]
     },
     "execution_count": 46,
     "metadata": {},
     "output_type": "execute_result"
    }
   ],
   "source": [
    "pd_train[pd_train['approx_length'] > 1000]"
   ]
  },
  {
   "cell_type": "code",
   "execution_count": 44,
   "metadata": {},
   "outputs": [
    {
     "data": {
      "text/plain": [
       "587"
      ]
     },
     "execution_count": 44,
     "metadata": {},
     "output_type": "execute_result"
    }
   ],
   "source": [
    "len(remove_stopwords(tok.tokenize(pd_train[pd_train.index==6].text.values[0])))"
   ]
  },
  {
   "cell_type": "code",
   "execution_count": 47,
   "metadata": {},
   "outputs": [
    {
     "name": "stdout",
     "output_type": "stream",
     "text": [
      "Train\n",
      "       approx_length\n",
      "count    20000.00000\n",
      "mean       180.15745\n",
      "std        135.59529\n",
      "min          6.00000\n",
      "25%         95.00000\n",
      "50%        134.00000\n",
      "75%        222.00000\n",
      "max       1822.00000\n",
      "\n",
      "count     20000\n",
      "unique        2\n",
      "top           0\n",
      "freq      10031\n",
      "Name: label, dtype: object\n",
      "\n",
      "Val\n",
      "       approx_length\n",
      "count    5000.000000\n",
      "mean      179.830400\n",
      "std       135.212639\n",
      "min         8.000000\n",
      "25%        94.000000\n",
      "50%       134.000000\n",
      "75%       221.000000\n",
      "max      1481.000000\n",
      "\n",
      "count     5000\n",
      "unique       2\n",
      "top          1\n",
      "freq      2531\n",
      "Name: label, dtype: object\n",
      "\n",
      "Test\n",
      "       approx_length\n",
      "count   25000.000000\n",
      "mean      176.235880\n",
      "std       132.430367\n",
      "min         6.000000\n",
      "25%        93.000000\n",
      "50%       132.000000\n",
      "75%       216.000000\n",
      "max      1837.000000\n",
      "count     25000\n",
      "unique        2\n",
      "top           0\n",
      "freq      12500\n",
      "Name: label, dtype: object\n",
      "\n"
     ]
    }
   ],
   "source": [
    "print('Train')\n",
    "print(pd_train.describe(), end='\\n\\n')\n",
    "print(pd_train['label'].describe(), end='\\n\\n')\n",
    "print('Val')\n",
    "print(pd_val.describe(), end='\\n\\n')\n",
    "print(pd_val['label'].describe(), end='\\n\\n')\n",
    "print('Test')\n",
    "print(pd_test.describe())\n",
    "print(pd_test['label'].describe(), end='\\n\\n')"
   ]
  },
  {
   "cell_type": "markdown",
   "metadata": {},
   "source": [
    "# Train Tokenizer"
   ]
  },
  {
   "cell_type": "code",
   "execution_count": 23,
   "metadata": {},
   "outputs": [
    {
     "name": "stdout",
     "output_type": "stream",
     "text": [
      "Least frequent words will be removed until n_vocab = 50000 (excluding special tokens)\n",
      "Tokenizer train time: 9.28382158279419\n",
      "n_vocab: 50004\n",
      "['This', 'was', 'an', 'absolutely', 'terrible', 'movie', '.', \"Don't\", 'be', 'lured', 'in', 'by', 'Christopher', 'Walken', 'or', 'Michael', 'Ironside', '.', 'Both', 'are', 'great', 'actors', ',', 'but', 'this', 'must', 'simply', 'be', 'their', 'worst', 'role', 'in', 'history', '.', 'Even', 'their', 'great', 'acting', 'could', 'not', 'redeem', 'this', \"movie's\", 'ridiculous', 'storyline', '.', 'This', 'movie', 'is', 'an', 'early', 'nineties', 'US', 'propaganda', 'piece', '.', 'The', 'most', 'pathetic', 'scenes', 'were', 'those', 'when', 'the', 'Columbian', 'rebels', 'were', 'making', 'their', 'cases', 'for', 'revolutions', '.', 'Maria', 'Conchita', 'Alonso', 'appeared', 'phony', ',', 'and', 'her', 'pseudo-love', 'affair', 'with', 'Walken', 'was', 'nothing', 'but', 'a', 'pathetic', 'emotional', 'plug', 'in', 'a', 'movie', 'that', 'was', 'devoid', 'of', 'any', 'real', 'meaning', '.', 'I', 'am', 'disappointed', 'that', 'there', 'are', 'movies', 'like', 'this', ',', 'ruining', \"actor's\", 'like', 'Christopher', \"Walken's\", 'good', 'name', '.', 'I', 'could', 'barely', 'sit', 'through', 'it', '.']\n",
      "[[4, 5, 6, 7, 8, 9, 10, 11, 12, 13, 14, 15, 16, 17, 18, 19, 20, 10, 21, 22, 23, 24, 25, 26, 27, 28, 29, 12, 30, 31, 32, 14, 33, 10, 34, 30, 23, 35, 36, 37, 38, 27, 39, 40, 41, 10, 4, 9, 42, 6, 43, 44, 45, 46, 47, 10, 48, 49, 50, 51, 52, 53, 54, 55, 56, 57, 52, 58, 30, 59, 60, 61, 10, 62, 63, 64, 65, 66, 25, 67, 68, 1, 69, 70, 17, 5, 71, 26, 72, 50, 73, 74, 14, 72, 9, 75, 5, 76, 77, 78, 79, 80, 10, 81, 82, 83, 75, 84, 22, 85, 86, 27, 25, 87, 88, 86, 16, 89, 90, 91, 10, 81, 36, 92, 93, 94, 95, 10]]\n",
      "Encoded length: 1\n",
      "[['This', 'was', 'an', 'absolutely', 'terrible', 'movie', '.', \"Don't\", 'be', 'lured', 'in', 'by', 'Christopher', 'Walken', 'or', 'Michael', 'Ironside', '.', 'Both', 'are', 'great', 'actors', ',', 'but', 'this', 'must', 'simply', 'be', 'their', 'worst', 'role', 'in', 'history', '.', 'Even', 'their', 'great', 'acting', 'could', 'not', 'redeem', 'this', \"movie's\", 'ridiculous', 'storyline', '.', 'This', 'movie', 'is', 'an', 'early', 'nineties', 'US', 'propaganda', 'piece', '.', 'The', 'most', 'pathetic', 'scenes', 'were', 'those', 'when', 'the', 'Columbian', 'rebels', 'were', 'making', 'their', 'cases', 'for', 'revolutions', '.', 'Maria', 'Conchita', 'Alonso', 'appeared', 'phony', ',', 'and', 'her', '<UNK>', 'affair', 'with', 'Walken', 'was', 'nothing', 'but', 'a', 'pathetic', 'emotional', 'plug', 'in', 'a', 'movie', 'that', 'was', 'devoid', 'of', 'any', 'real', 'meaning', '.', 'I', 'am', 'disappointed', 'that', 'there', 'are', 'movies', 'like', 'this', ',', 'ruining', \"actor's\", 'like', 'Christopher', \"Walken's\", 'good', 'name', '.', 'I', 'could', 'barely', 'sit', 'through', 'it', '.']]\n"
     ]
    }
   ],
   "source": [
    "VOCAB_SIZE = 50000\n",
    "\n",
    "tokenizer = Tokenizer(VOCAB_SIZE)\n",
    "\n",
    "sentences = []\n",
    "for text_tensor, _ in imdb_train:\n",
    "    sentences.append(text_tensor.numpy().decode('utf-8'))\n",
    "start_time = time.time()\n",
    "tokenizer.train_tokenizer(sentences)\n",
    "print('Tokenizer train time:', time.time() - start_time)\n",
    "\n",
    "FINAL_N_VOCAB = tokenizer.n_words\n",
    "print(f'n_vocab: {FINAL_N_VOCAB}')\n",
    "\n",
    "for text_tensor, _ in imdb_train.take(1):\n",
    "    print(tokenizer.tokenize(text_tensor.numpy().decode('utf-8')))\n",
    "    encoded = tokenizer.encode([text_tensor.numpy().decode('utf-8')])\n",
    "    print(encoded)\n",
    "    print('Encoded length:', len(encoded[0]))\n",
    "    decoded = tokenizer.decode(encoded)\n",
    "    print(decoded)"
   ]
  },
  {
   "cell_type": "markdown",
   "metadata": {},
   "source": [
    "# Prepare Data"
   ]
  },
  {
   "cell_type": "code",
   "execution_count": 11,
   "metadata": {},
   "outputs": [
    {
     "name": "stdout",
     "output_type": "stream",
     "text": [
      "Train sample:\n",
      "(<tf.Tensor: shape=(150,), dtype=int64, numpy=\n",
      "array([ 4,  7,  8,  9, 10, 11, 13, 16, 17, 19, 20, 10, 21, 23, 24, 25, 28,\n",
      "       29, 31, 32, 33, 10, 34, 23, 35, 36, 38, 39, 40, 41, 10,  4,  9, 43,\n",
      "       44, 45, 46, 47, 10, 48, 50, 51, 56, 57, 58, 59, 61, 10, 62, 63, 64,\n",
      "       65, 66, 25,  1, 69, 17, 71, 50, 73, 74,  9, 76, 79, 80, 10, 81, 83,\n",
      "       85, 86, 25, 87, 88, 86, 16, 89, 90, 91, 10, 81, 36, 92, 93, 10,  0,\n",
      "        0,  0,  0,  0,  0,  0,  0,  0,  0,  0,  0,  0,  0,  0,  0,  0,  0,\n",
      "        0,  0,  0,  0,  0,  0,  0,  0,  0,  0,  0,  0,  0,  0,  0,  0,  0,\n",
      "        0,  0,  0,  0,  0,  0,  0,  0,  0,  0,  0,  0,  0,  0,  0,  0,  0,\n",
      "        0,  0,  0,  0,  0,  0,  0,  0,  0,  0,  0,  0,  0,  0])>, <tf.Tensor: shape=(), dtype=int64, numpy=0>)\n",
      "Val sample:\n",
      "(<tf.Tensor: shape=(150,), dtype=int64, numpy=\n",
      "array([ 4731,    25,   246, 12947,    25,  2073, 26293,  1275,   556,\n",
      "        9552,    10, 30481,  1290,    10,  2166, 22330,   546,   805,\n",
      "          25,    93, 33666,   591,  1290,    10,   177,   178,   179,\n",
      "         180,   177,   178,   179,   180,  1788,  2247,   207,   264,\n",
      "        3282,  2121,    25,   278,  1290,  1144,   616,    10,   177,\n",
      "         178,   179,   180,   177,   178,   179,   180, 24369,  8850,\n",
      "         107,   543,   746,  7628, 14398,    10,   489, 21967, 40349,\n",
      "          10,    81,   888,   567,  4630,   385,    10,   554,   140,\n",
      "        2769,  1995,    25,  2025,   207,  1383,   644,  4915,   567,\n",
      "          25,    10,   177,   178,   179,   180,   177,   178,   179,\n",
      "         180,    48,    35,   131,   626,    10,  2616,   118,     1,\n",
      "       15055,    10,   489,  3935,  3776,   207,   489,  3935,   252,\n",
      "        2564,   207,   372,  1293,  2922,   187,     1,    25,  4102,\n",
      "       42671,   207,     0,     0,     0,     0,     0,     0,     0,\n",
      "           0,     0,     0,     0,     0,     0,     0,     0,     0,\n",
      "           0,     0,     0,     0,     0,     0,     0,     0,     0,\n",
      "           0,     0,     0,     0,     0,     0])>, <tf.Tensor: shape=(), dtype=int64, numpy=0>)\n",
      "Test sample:\n",
      "(<tf.Tensor: shape=(150,), dtype=int64, numpy=\n",
      "array([  264,   103,   409, 12403,    10,  1962,   967, 14054,    25,\n",
      "       12797,  2274,  1932, 18156, 19004,   458,  9059, 10941,    25,\n",
      "           1,   458,  1913, 20090,    25, 48032,     1,    10,  3240,\n",
      "        3453,     1,     1,     7,  3648,     1,    10,     1,  3790,\n",
      "          25, 19570,  2502,  5212,    85,    10,    81,  1196,  3406,\n",
      "        1695,    81,  1235,  1932, 23390,     1,    10,   194,   307,\n",
      "          25,   209,    25,    81,   888,    81,  1196,   777,  3406,\n",
      "         848,    10,   561,  5230,    10,   197,     1,  1445,  3010,\n",
      "         445,     1,  5143,   492,  4497, 37076,   278,   358,    93,\n",
      "        2421,   747,     1, 15628,  3085,  2147,    25, 28817,    25,\n",
      "       31497, 27419,    10,  2228,  3837,  6129,  4895,   194,  5107,\n",
      "         578,     1,   415,   197,    25,   171,   297,  3008,   194,\n",
      "         639,  1350,  2570,  3078, 21913,   278, 18762,  1390,   123,\n",
      "          86,   197,    10,     1,   123,  1843,   550,   182,    10,\n",
      "           0,     0,     0,     0,     0,     0,     0,     0,     0,\n",
      "           0,     0,     0,     0,     0,     0,     0,     0,     0,\n",
      "           0,     0,     0,     0,     0,     0])>, <tf.Tensor: shape=(), dtype=int64, numpy=1>)\n"
     ]
    }
   ],
   "source": [
    "MAX_LEN = 150\n",
    "\n",
    "def preprocess_input(text, label):\n",
    "    no_sw_tokenized_text = remove_stopwords(tokenizer.tokenize(text.numpy().decode('utf-8')))\n",
    "    encoded_text = pad_sequences(tokenizer.encode([no_sw_tokenized_text]), padding='post', truncating='post', maxlen=MAX_LEN)[0]\n",
    "    return encoded_text, label\n",
    "\n",
    "def fn(text, label):\n",
    "    encoded_text, label = tf.py_function(preprocess_input, \n",
    "                                       inp=[text, label], \n",
    "                                       Tout=(tf.int64, tf.int64))\n",
    "    encoded_text.set_shape([None])\n",
    "    label.set_shape([])\n",
    "    return encoded_text, label\n",
    "\n",
    "train = imdb_train.map(fn)\n",
    "val = imdb_val.map(fn)\n",
    "test = imdb_test.map(fn)\n",
    "\n",
    "print('Train sample:')\n",
    "for el in train.take(1):\n",
    "    print(el, end='\\n')\n",
    "print('Val sample:')\n",
    "for el in val.take(1):\n",
    "    print(el, end='\\n')\n",
    "print('Test sample:')\n",
    "for el in test.take(1):\n",
    "    print(el, end='\\n')"
   ]
  },
  {
   "cell_type": "code",
   "execution_count": 12,
   "metadata": {},
   "outputs": [
    {
     "name": "stdout",
     "output_type": "stream",
     "text": [
      "Text: [[    4  1411  2982 ...  2854   300 24708]\n",
      " [   81   109  3456 ... 11074     1  4120]\n",
      " [  264   679  3661 ...     0     0     0]\n",
      " ...\n",
      " [ 2188   983   546 ...     0     0     0]\n",
      " [   81   323 10339 ...     0     0     0]\n",
      " [  544    81   763 ...     0     0     0]]\n",
      "Label: [1 0 0 0 0 0 1 0 0 1 0 1 0 0 0 0 1 1 0 1 0 1 1 1 0 1 0 0 0 1 0 1]\n"
     ]
    }
   ],
   "source": [
    "BUFFER_SIZE = len(imdb_train)\n",
    "BATCH_SIZE = 32\n",
    "VOCAB_SIZE = VOCAB_SIZE\n",
    "\n",
    "train = train.shuffle(BUFFER_SIZE, reshuffle_each_iteration=False)\n",
    "train = train.batch(BATCH_SIZE)\n",
    "\n",
    "val = val.batch(BATCH_SIZE)\n",
    "\n",
    "test = test.batch(BATCH_SIZE)\n",
    "\n",
    "temp_text, temp_label = next(iter(train))\n",
    "print(f'Text: {temp_text}')\n",
    "print(f'Label: {temp_label}')"
   ]
  },
  {
   "cell_type": "code",
   "execution_count": 13,
   "metadata": {},
   "outputs": [
    {
     "data": {
      "text/plain": [
       "(<tf.Tensor: shape=(32, 150), dtype=int64, numpy=\n",
       " array([[  264,   103,   409, ...,     0,     0,     0],\n",
       "        [  274,     1,   833, ...,  1390, 13747,    25],\n",
       "        [ 9924,  1566,     1, ...,  5461,   291,    48],\n",
       "        ...,\n",
       "        [11109, 25249, 25250, ...,    10,    48,   306],\n",
       "        [  544,    25,    81, ..., 12127,   872,   317],\n",
       "        [   81,  1235,     9, ...,     0,     0,     0]])>,\n",
       " <tf.Tensor: shape=(32,), dtype=int64, numpy=\n",
       " array([1, 1, 0, 0, 1, 1, 1, 1, 0, 1, 0, 0, 1, 0, 1, 0, 1, 0, 1, 0, 0, 1,\n",
       "        0, 0, 1, 1, 0, 0, 0, 1, 1, 1])>)"
      ]
     },
     "execution_count": 13,
     "metadata": {},
     "output_type": "execute_result"
    }
   ],
   "source": [
    "next(iter(train.take(1)))\n",
    "next(iter(val.take(1)))\n",
    "next(iter(test.take(1)))"
   ]
  },
  {
   "cell_type": "markdown",
   "metadata": {},
   "source": [
    "# Model Building"
   ]
  },
  {
   "cell_type": "markdown",
   "metadata": {},
   "source": [
    "## Definition"
   ]
  },
  {
   "cell_type": "code",
   "execution_count": 67,
   "metadata": {},
   "outputs": [],
   "source": [
    "TASK_NAME = 'sent_analysis'\n",
    "EXP_NO = 2\n",
    "\n",
    "EMBEDDING_SIZE = 100\n",
    "HIDDEN_SIZE = 64\n",
    "LEARNING_RATE = 0.001\n",
    "\n",
    "model = tf.keras.Sequential()\n",
    "model.add(tf.keras.layers.Embedding(FINAL_N_VOCAB, EMBEDDING_SIZE))\n",
    "model.add(tf.keras.layers.Dropout(0.3))\n",
    "model.add(tf.keras.layers.Bidirectional(tf.keras.layers.LSTM(HIDDEN_SIZE, dropout=0.3)))\n",
    "model.add(tf.keras.layers.Dense(1, activation='sigmoid'))\n",
    "\n",
    "\n",
    "lr_schedule = tf.keras.optimizers.schedules.ExponentialDecay(\n",
    "    LEARNING_RATE,\n",
    "    decay_steps=625,\n",
    "    decay_rate=0.8,\n",
    "    staircase=True)\n",
    "\n",
    "opt = tf.keras.optimizers.Adam(\n",
    "    learning_rate=lr_schedule, beta_1=0.9, beta_2=0.999, epsilon=1e-07, amsgrad=False,\n",
    ")\n",
    "\n",
    "log_dir = f'./logs/fit/{TASK_NAME}_{EXP_NO:03d}_{datetime.datetime.now().strftime(\"%Y%m%d-%H%M%S\")}'\n",
    "tensorboard_callback = tf.keras.callbacks.TensorBoard(log_dir=log_dir, histogram_freq=1)\n",
    "\n",
    "model.compile(optimizer=opt,\n",
    "             loss=tf.keras.losses.BinaryCrossentropy(),\n",
    "             metrics=['accuracy'])"
   ]
  },
  {
   "cell_type": "code",
   "execution_count": 68,
   "metadata": {},
   "outputs": [
    {
     "name": "stdout",
     "output_type": "stream",
     "text": [
      "Model: \"sequential_7\"\n",
      "_________________________________________________________________\n",
      "Layer (type)                 Output Shape              Param #   \n",
      "=================================================================\n",
      "embedding_7 (Embedding)      (None, None, 100)         5000400   \n",
      "_________________________________________________________________\n",
      "dropout_4 (Dropout)          (None, None, 100)         0         \n",
      "_________________________________________________________________\n",
      "bidirectional_7 (Bidirection (None, 128)               84480     \n",
      "_________________________________________________________________\n",
      "dense_7 (Dense)              (None, 1)                 129       \n",
      "=================================================================\n",
      "Total params: 5,085,009\n",
      "Trainable params: 5,085,009\n",
      "Non-trainable params: 0\n",
      "_________________________________________________________________\n"
     ]
    }
   ],
   "source": [
    "model.summary()"
   ]
  },
  {
   "cell_type": "markdown",
   "metadata": {},
   "source": [
    "## Training"
   ]
  },
  {
   "cell_type": "code",
   "execution_count": 69,
   "metadata": {},
   "outputs": [
    {
     "name": "stdout",
     "output_type": "stream",
     "text": [
      "Epoch 1/3\n",
      "  2/625 [..............................] - ETA: 2:32 - loss: 0.6942 - accuracy: 0.5156WARNING:tensorflow:Callbacks method `on_train_batch_end` is slow compared to the batch time (batch time: 0.1414s vs `on_train_batch_end` time: 0.3468s). Check your callbacks.\n"
     ]
    },
    {
     "name": "stderr",
     "output_type": "stream",
     "text": [
      "WARNING:tensorflow:Callbacks method `on_train_batch_end` is slow compared to the batch time (batch time: 0.1414s vs `on_train_batch_end` time: 0.3468s). Check your callbacks.\n"
     ]
    },
    {
     "name": "stdout",
     "output_type": "stream",
     "text": [
      "625/625 [==============================] - 93s 148ms/step - loss: 0.4471 - accuracy: 0.7898 - val_loss: 0.3695 - val_accuracy: 0.8472\n",
      "Epoch 2/3\n",
      "625/625 [==============================] - 90s 143ms/step - loss: 0.2038 - accuracy: 0.9262 - val_loss: 0.3447 - val_accuracy: 0.8634\n",
      "Epoch 3/3\n",
      "625/625 [==============================] - 86s 138ms/step - loss: 0.1095 - accuracy: 0.9652 - val_loss: 0.4066 - val_accuracy: 0.8652\n"
     ]
    }
   ],
   "source": [
    "history = model.fit(train, epochs=3,\n",
    "                    validation_data=val,\n",
    "                    callbacks=[tensorboard_callback])"
   ]
  },
  {
   "cell_type": "code",
   "execution_count": 53,
   "metadata": {},
   "outputs": [
    {
     "data": {
      "image/png": "[encoded data removed]",
      "text/plain": [
       "<Figure size 432x288 with 1 Axes>"
      ]
     },
     "metadata": {
      "needs_background": "light"
     },
     "output_type": "display_data"
    }
   ],
   "source": [
    "plt.title('Loss')\n",
    "plt.plot(history.history.get('loss'), label='train')\n",
    "plt.plot(history.history.get('val_loss'), label='validation')\n",
    "plt.legend()\n",
    "plt.show()"
   ]
  },
  {
   "cell_type": "code",
   "execution_count": 54,
   "metadata": {},
   "outputs": [
    {
     "data": {
      "image/png": "[encoded data removed]",
      "text/plain": [
       "<Figure size 432x288 with 1 Axes>"
      ]
     },
     "metadata": {
      "needs_background": "light"
     },
     "output_type": "display_data"
    }
   ],
   "source": [
    "plt.title('Accuracy')\n",
    "accuracy = history.history.get('accuracy') or history.history.get('acc')\n",
    "val_accuracy = history.history.get('val_accuracy') or history.history.get('val_acc')\n",
    "plt.plot(accuracy, label='train')\n",
    "plt.plot(val_accuracy, label='validation')\n",
    "plt.legend()\n",
    "plt.show()"
   ]
  },
  {
   "cell_type": "code",
   "execution_count": 91,
   "metadata": {},
   "outputs": [
    {
     "name": "stdout",
     "output_type": "stream",
     "text": [
      "782/782 [==============================] - 56s 72ms/step - loss: 0.4911 - accuracy: 0.8342\n"
     ]
    }
   ],
   "source": [
    "loss, accuracy = model.evaluate(test)"
   ]
  },
  {
   "cell_type": "markdown",
   "metadata": {},
   "source": [
    "## Predict"
   ]
  },
  {
   "cell_type": "code",
   "execution_count": 96,
   "metadata": {},
   "outputs": [],
   "source": [
    "predictions = model.predict(test)\n",
    "# predictions = \n",
    "# for prediction in predictions:\n",
    "#     print()"
   ]
  },
  {
   "cell_type": "code",
   "execution_count": 97,
   "metadata": {},
   "outputs": [
    {
     "data": {
      "text/plain": [
       "array([1, 1, 0, ..., 0, 1, 1])"
      ]
     },
     "execution_count": 97,
     "metadata": {},
     "output_type": "execute_result"
    }
   ],
   "source": [
    "y_hat = np.array(list(map(lambda x: 1 if x > 0.5 else 0, predictions)))\n",
    "y_hat"
   ]
  },
  {
   "cell_type": "code",
   "execution_count": 100,
   "metadata": {},
   "outputs": [
    {
     "name": "stdout",
     "output_type": "stream",
     "text": [
      "(25000,)\n",
      "12271\n"
     ]
    }
   ],
   "source": [
    "print(y_hat.shape)\n",
    "print((y_hat != 0).sum())"
   ]
  },
  {
   "cell_type": "code",
   "execution_count": 99,
   "metadata": {},
   "outputs": [
    {
     "data": {
      "text/plain": [
       "12271"
      ]
     },
     "execution_count": 99,
     "metadata": {},
     "output_type": "execute_result"
    }
   ],
   "source": []
  },
  {
   "cell_type": "code",
   "execution_count": 79,
   "metadata": {},
   "outputs": [
    {
     "name": "stdout",
     "output_type": "stream",
     "text": [
      "(<tf.Tensor: shape=(150,), dtype=int64, numpy=\n",
      "array([  264,   103,   409, 12403,    10,  1962,   967, 14054,    25,\n",
      "       12797,  2274,  1932, 18156, 19004,   458,  9059, 10941,    25,\n",
      "           1,   458,  1913, 20090,    25, 48032,     1,    10,  3240,\n",
      "        3453,     1,     1,     7,  3648,     1,    10,     1,  3790,\n",
      "          25, 19570,  2502,  5212,    85,    10,    81,  1196,  3406,\n",
      "        1695,    81,  1235,  1932, 23390,     1,    10,   194,   307,\n",
      "          25,   209,    25,    81,   888,    81,  1196,   777,  3406,\n",
      "         848,    10,   561,  5230,    10,   197,     1,  1445,  3010,\n",
      "         445,     1,  5143,   492,  4497, 37076,   278,   358,    93,\n",
      "        2421,   747,     1, 15628,  3085,  2147,    25, 28817,    25,\n",
      "       31497, 27419,    10,  2228,  3837,  6129,  4895,   194,  5107,\n",
      "         578,     1,   415,   197,    25,   171,   297,  3008,   194,\n",
      "         639,  1350,  2570,  3078, 21913,   278, 18762,  1390,   123,\n",
      "          86,   197,    10,     1,   123,  1843,   550,   182,    10,\n",
      "           0,     0,     0,     0,     0,     0,     0,     0,     0,\n",
      "           0,     0,     0,     0,     0,     0,     0,     0,     0,\n",
      "           0,     0,     0,     0,     0,     0])>, <tf.Tensor: shape=(), dtype=int64, numpy=1>)\n"
     ]
    }
   ],
   "source": [
    "for el in test:\n",
    "    print(el)\n",
    "    break"
   ]
  }
 ],
 "metadata": {
  "kernelspec": {
   "display_name": "dl_practice",
   "language": "python",
   "name": "dl_practice"
  },
  "language_info": {
   "codemirror_mode": {
    "name": "ipython",
    "version": 3
   },
   "file_extension": ".py",
   "mimetype": "text/x-python",
   "name": "python",
   "nbconvert_exporter": "python",
   "pygments_lexer": "ipython3",
   "version": "3.7.5"
  }
 },
 "nbformat": 4,
 "nbformat_minor": 4
}
