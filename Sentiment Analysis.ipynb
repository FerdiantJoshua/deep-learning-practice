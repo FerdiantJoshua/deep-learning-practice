{
 "cells": [
  {
   "cell_type": "markdown",
   "metadata": {},
   "source": [
    "# Preparation"
   ]
  },
  {
   "cell_type": "code",
   "execution_count": 3,
   "metadata": {},
   "outputs": [
    {
     "name": "stdout",
     "output_type": "stream",
     "text": [
      "['/device:CPU:0', '/device:XLA_CPU:0', '/device:XLA_GPU:0']\n"
     ]
    }
   ],
   "source": [
    "import sys\n",
    "sys.version\n",
    "\n",
    "from tensorflow.python.client import device_lib\n",
    "def get_available_devices():\n",
    "    local_device_protos = device_lib.list_local_devices()\n",
    "    return [x.name for x in local_device_protos]\n",
    "print(get_available_devices()) "
   ]
  },
  {
   "cell_type": "code",
   "execution_count": 4,
   "metadata": {},
   "outputs": [],
   "source": [
    "import datetime\n",
    "import time\n",
    "from typing import List, Union\n",
    "\n",
    "import matplotlib.pyplot as plt\n",
    "from nltk.corpus import stopwords\n",
    "import numpy as np\n",
    "import pandas as pd\n",
    "from sklearn.metrics import classification_report\n",
    "import tensorflow as tf\n",
    "from tensorflow.keras.preprocessing.sequence import pad_sequences\n",
    "import tensorflow_datasets as tfds\n",
    "\n",
    "from util.tokenizer import Tokenizer\n",
    "\n",
    "%load_ext tensorboard"
   ]
  },
  {
   "cell_type": "code",
   "execution_count": 5,
   "metadata": {},
   "outputs": [
    {
     "name": "stdout",
     "output_type": "stream",
     "text": [
      "Version: 2.3.0\n",
      "Eager mode: True\n",
      "Is built with cuda? True\n",
      "Is built with gpu support? True\n",
      "Devices list:\n",
      "['/device:CPU:0', '/device:XLA_CPU:0', '/device:XLA_GPU:0']\n",
      "Num GPUs Available:  0\n"
     ]
    }
   ],
   "source": [
    "print('Version:', tf.__version__)\n",
    "print('Eager mode:', tf.executing_eagerly())\n",
    "print('Is built with cuda?', tf.test.is_built_with_cuda())\n",
    "print('Is built with gpu support?', tf.test.is_built_with_gpu_support())\n",
    "\n",
    "print('Devices list:')\n",
    "from tensorflow.python.client import device_lib\n",
    "def get_available_devices():\n",
    "    local_device_protos = device_lib.list_local_devices()\n",
    "    return [x.name for x in local_device_protos]\n",
    "print(get_available_devices())\n",
    "\n",
    "print(\"Num GPUs Available: \", len(tf.config.experimental.list_physical_devices('GPU')))"
   ]
  },
  {
   "cell_type": "markdown",
   "metadata": {},
   "source": [
    "# Data Load"
   ]
  },
  {
   "cell_type": "code",
   "execution_count": 6,
   "metadata": {},
   "outputs": [
    {
     "name": "stdout",
     "output_type": "stream",
     "text": [
      "Label info:\n",
      "2\n",
      "['neg', 'pos']\n",
      "neg\n",
      "1\n",
      "\n",
      "Feature info:\n",
      "{'text': (), 'label': ()}\n",
      "{'text': tf.string, 'label': tf.int64}\n",
      "()\n",
      "<dtype: 'string'>\n",
      "\n",
      "Datasplit info:\n",
      "dict_keys(['test', 'train', 'unsupervised'])\n",
      "25000\n",
      "['imdb_reviews-train.tfrecord-00000-of-00001']\n",
      "1\n"
     ]
    }
   ],
   "source": [
    "imdb_reviews, info = tfds.load('imdb_reviews', with_info=True)\n",
    "# ds = ds.shuffle(1024).batch(32).prefetch(tf.data.experimental.AUTOTUNE)\n",
    "\n",
    "print('Label info:')\n",
    "print(info.features[\"label\"].num_classes)\n",
    "print(info.features[\"label\"].names)\n",
    "print(info.features[\"label\"].int2str(0))  # Human readable version (8 -> 'cat')\n",
    "print(info.features[\"label\"].str2int('pos'))\n",
    "\n",
    "print()\n",
    "print('Feature info:')\n",
    "print(info.features.shape)\n",
    "print(info.features.dtype)\n",
    "print(info.features['text'].shape)\n",
    "print(info.features['text'].dtype)\n",
    "\n",
    "print()\n",
    "print('Datasplit info:')\n",
    "print(info.splits.keys())\n",
    "print(info.splits['train'].num_examples)\n",
    "print(info.splits['train'].filenames)\n",
    "print(info.splits['train'].num_shards)"
   ]
  },
  {
   "cell_type": "code",
   "execution_count": 7,
   "metadata": {},
   "outputs": [
    {
     "name": "stdout",
     "output_type": "stream",
     "text": [
      "20000\n",
      "5000\n",
      "25000\n"
     ]
    }
   ],
   "source": [
    "SPLIT_PERCENT = 80\n",
    "\n",
    "imdb_train = tfds.load('imdb_reviews', split=f'train[:{SPLIT_PERCENT}%]', as_supervised=True)\n",
    "imdb_val = tfds.load('imdb_reviews', split=f'train[{SPLIT_PERCENT}%:]', as_supervised=True)\n",
    "imdb_test = tfds.load('imdb_reviews', split='test', as_supervised=True)\n",
    "\n",
    "print(len(imdb_train))\n",
    "print(len(imdb_val))\n",
    "print(len(imdb_test))"
   ]
  },
  {
   "cell_type": "markdown",
   "metadata": {},
   "source": [
    "# Preprocessing Functions"
   ]
  },
  {
   "cell_type": "code",
   "execution_count": 8,
   "metadata": {},
   "outputs": [],
   "source": [
    "STOPWORDS = stopwords.words('english')\n",
    "STOPWORD_EXCEPTIONS = ['not', 'nor',  'ain', 'aren', \"aren't\", 'couldn', \"couldn't\", 'didn', \"didn't\", 'doesn', \"doesn't\", 'hadn', \"hadn't\", 'hasn', \"hasn't\", 'haven', \"haven't\", 'isn', \"isn't\", 'ma', 'mightn', \"mightn't\", 'mustn', \"mustn't\", 'needn', \"needn't\", 'shan', \"shan't\", 'shouldn', \"shouldn't\", 'wasn', \"wasn't\", 'weren', \"weren't\", 'won', \"won't\", 'wouldn', \"wouldn't\"]\n",
    "for exception in STOPWORD_EXCEPTIONS:\n",
    "    STOPWORDS.remove(exception)\n",
    "    \n",
    "def remove_stopwords(text: Union[str, List[str]]):\n",
    "    if isinstance(text, str):\n",
    "        tokenized_text = []\n",
    "        for token in text.split():\n",
    "            if token not in STOPWORDS: tokenized_text.append(token)\n",
    "        return ' '.join(tokenized_text)\n",
    "    else:\n",
    "        i = 0\n",
    "        tokenized_text = text\n",
    "        while i < len(tokenized_text):\n",
    "            if tokenized_text[i] in STOPWORDS:\n",
    "                tokenized_text.pop(i)\n",
    "            else:\n",
    "                i += 1\n",
    "        return tokenized_text"
   ]
  },
  {
   "cell_type": "markdown",
   "metadata": {},
   "source": [
    "# Data Analysis"
   ]
  },
  {
   "cell_type": "code",
   "execution_count": 9,
   "metadata": {},
   "outputs": [
    {
     "name": "stdout",
     "output_type": "stream",
     "text": [
      "Text: tf.Tensor(b\"This was an absolutely terrible movie. Don't be lured in by Christopher Walken or Michael Ironside. Both are great actors, but this must simply be their worst role in history. Even their great acting could not redeem this movie's ridiculous storyline. This movie is an early nineties US propaganda piece. The most pathetic scenes were those when the Columbian rebels were making their cases for revolutions. Maria Conchita Alonso appeared phony, and her pseudo-love affair with Walken was nothing but a pathetic emotional plug in a movie that was devoid of any real meaning. I am disappointed that there are movies like this, ruining actor's like Christopher Walken's good name. I could barely sit through it.\", shape=(), dtype=string)\n",
      "Label: tf.Tensor(0, shape=(), dtype=int64)\n",
      "\n",
      "Text: tf.Tensor(b'I have been known to fall asleep during films, but this is usually due to a combination of things including, really tired, being warm and comfortable on the sette and having just eaten a lot. However on this occasion I fell asleep because the film was rubbish. The plot development was constant. Constantly slow and boring. Things seemed to happen, but with no explanation of what was causing them or why. I admit, I may have missed part of the film, but i watched the majority of it and everything just seemed to happen of its own accord without any real concern for anything else. I cant recommend this film at all.', shape=(), dtype=string)\n",
      "Label: tf.Tensor(0, shape=(), dtype=int64)\n",
      "\n"
     ]
    }
   ],
   "source": [
    "for elm in imdb_train.take(2):\n",
    "    text, label = elm\n",
    "    print('Text:', text)\n",
    "    print('Label:', label)\n",
    "    print()"
   ]
  },
  {
   "cell_type": "code",
   "execution_count": 10,
   "metadata": {},
   "outputs": [
    {
     "name": "stdout",
     "output_type": "stream",
     "text": [
      "Train\n",
      "(20000,)\n",
      "(20000,)\n",
      "Val\n",
      "(5000,)\n",
      "(5000,)\n",
      "Test\n",
      "(25000,)\n",
      "(25000,)\n"
     ]
    }
   ],
   "source": [
    "print('Train')\n",
    "train_text = []\n",
    "train_label = []\n",
    "for text, label in tfds.as_numpy(imdb_train):\n",
    "    train_text.append(text.decode('utf-8'))\n",
    "    train_label.append(label)\n",
    "train_text = np.array(train_text)\n",
    "train_label = np.array(train_label)\n",
    "print(train_text.shape)\n",
    "print(train_label.shape)\n",
    "\n",
    "print('Val')\n",
    "val_text = []\n",
    "val_label = []\n",
    "for text, label in tfds.as_numpy(imdb_val):\n",
    "    val_text.append(text.decode('utf-8'))\n",
    "    val_label.append(label)\n",
    "val_text = np.array(val_text)\n",
    "val_label = np.array(val_label)\n",
    "print(val_text.shape)\n",
    "print(val_label.shape)\n",
    "\n",
    "print('Test')\n",
    "test_text = []\n",
    "test_label = []\n",
    "for text, label in tfds.as_numpy(imdb_test):\n",
    "    test_text.append(text.decode('utf-8'))\n",
    "    test_label.append(label)\n",
    "test_text = np.array(test_text)\n",
    "test_label = np.array(test_label)\n",
    "print(test_text.shape)\n",
    "print(test_label.shape)\n",
    "\n",
    "pd_train = pd.DataFrame(np.array([train_text, train_label]).T, columns=['text', 'label'])\n",
    "pd_val = pd.DataFrame(np.array([val_text, val_label]).T, columns=['text', 'label'])\n",
    "pd_test = pd.DataFrame(np.array([test_text, test_label]).T, columns=['text', 'label'])\n",
    "\n",
    "tok = Tokenizer()\n",
    "pd_train['approx_length'] = pd_train['text'].apply(lambda x: len(remove_stopwords(tok.tokenize(x))))\n",
    "pd_val['approx_length'] = pd_val['text'].apply(lambda x: len(remove_stopwords(tok.tokenize(x))))\n",
    "pd_test['approx_length'] = pd_test['text'].apply(lambda x: len(remove_stopwords(tok.tokenize(x))))"
   ]
  },
  {
   "cell_type": "code",
   "execution_count": 11,
   "metadata": {},
   "outputs": [
    {
     "name": "stdout",
     "output_type": "stream",
     "text": [
      "Train\n",
      "       approx_length\n",
      "count   20000.000000\n",
      "mean      182.143500\n",
      "std       136.904074\n",
      "min         6.000000\n",
      "25%        96.000000\n",
      "50%       135.000000\n",
      "75%       224.000000\n",
      "max      1833.000000\n",
      "\n",
      "count     20000\n",
      "unique        2\n",
      "top           0\n",
      "freq      10031\n",
      "Name: label, dtype: object\n",
      "\n",
      "Val\n",
      "       approx_length\n",
      "count    5000.000000\n",
      "mean      181.825600\n",
      "std       136.497393\n",
      "min         9.000000\n",
      "25%        95.000000\n",
      "50%       136.000000\n",
      "75%       223.250000\n",
      "max      1497.000000\n",
      "\n",
      "count     5000\n",
      "unique       2\n",
      "top          1\n",
      "freq      2531\n",
      "Name: label, dtype: object\n",
      "\n",
      "Test\n",
      "       approx_length\n",
      "count   25000.000000\n",
      "mean      178.179520\n",
      "std       133.655812\n",
      "min         6.000000\n",
      "25%        95.000000\n",
      "50%       134.000000\n",
      "75%       218.000000\n",
      "max      1854.000000\n",
      "count     25000\n",
      "unique        2\n",
      "top           1\n",
      "freq      12500\n",
      "Name: label, dtype: object\n",
      "\n"
     ]
    }
   ],
   "source": [
    "print('Train')\n",
    "print(pd_train.describe(), end='\\n\\n')\n",
    "print(pd_train['label'].describe(), end='\\n\\n')\n",
    "print('Val')\n",
    "print(pd_val.describe(), end='\\n\\n')\n",
    "print(pd_val['label'].describe(), end='\\n\\n')\n",
    "print('Test')\n",
    "print(pd_test.describe())\n",
    "print(pd_test['label'].describe(), end='\\n\\n')"
   ]
  },
  {
   "cell_type": "markdown",
   "metadata": {},
   "source": [
    "# Train Tokenizer"
   ]
  },
  {
   "cell_type": "code",
   "execution_count": 12,
   "metadata": {},
   "outputs": [
    {
     "name": "stdout",
     "output_type": "stream",
     "text": [
      "Least frequent words will be removed until n_vocab = 50000 (excluding special tokens)\n",
      "Tokenizer train time: 5.466837167739868\n",
      "n_vocab: 50004\n",
      "['This', 'was', 'an', 'absolutely', 'terrible', 'movie', '.', \"Don't\", 'be', 'lured', 'in', 'by', 'Christopher', 'Walken', 'or', 'Michael', 'Ironside', '.', 'Both', 'are', 'great', 'actors', ',', 'but', 'this', 'must', 'simply', 'be', 'their', 'worst', 'role', 'in', 'history', '.', 'Even', 'their', 'great', 'acting', 'could', 'not', 'redeem', 'this', \"movie's\", 'ridiculous', 'storyline', '.', 'This', 'movie', 'is', 'an', 'early', 'nineties', 'US', 'propaganda', 'piece', '.', 'The', 'most', 'pathetic', 'scenes', 'were', 'those', 'when', 'the', 'Columbian', 'rebels', 'were', 'making', 'their', 'cases', 'for', 'revolutions', '.', 'Maria', 'Conchita', 'Alonso', 'appeared', 'phony', ',', 'and', 'her', 'pseudo-love', 'affair', 'with', 'Walken', 'was', 'nothing', 'but', 'a', 'pathetic', 'emotional', 'plug', 'in', 'a', 'movie', 'that', 'was', 'devoid', 'of', 'any', 'real', 'meaning', '.', 'I', 'am', 'disappointed', 'that', 'there', 'are', 'movies', 'like', 'this', ',', 'ruining', \"actor's\", 'like', 'Christopher', \"Walken's\", 'good', 'name', '.', 'I', 'could', 'barely', 'sit', 'through', 'it', '.']\n",
      "[[4, 5, 6, 7, 8, 9, 10, 11, 12, 13, 14, 15, 16, 17, 18, 19, 20, 10, 21, 22, 23, 24, 25, 26, 27, 28, 29, 12, 30, 31, 32, 14, 33, 10, 34, 30, 23, 35, 36, 37, 38, 27, 39, 40, 41, 10, 4, 9, 42, 6, 43, 44, 45, 46, 47, 10, 48, 49, 50, 51, 52, 53, 54, 55, 56, 57, 52, 58, 30, 59, 60, 61, 10, 62, 63, 64, 65, 66, 25, 67, 68, 1, 69, 70, 17, 5, 71, 26, 72, 50, 73, 74, 14, 72, 9, 75, 5, 76, 77, 78, 79, 80, 10, 81, 82, 83, 75, 84, 22, 85, 86, 27, 25, 87, 88, 86, 16, 89, 90, 91, 10, 81, 36, 92, 93, 94, 95, 10]]\n",
      "Encoded length: 128\n",
      "[['This', 'was', 'an', 'absolutely', 'terrible', 'movie', '.', \"Don't\", 'be', 'lured', 'in', 'by', 'Christopher', 'Walken', 'or', 'Michael', 'Ironside', '.', 'Both', 'are', 'great', 'actors', ',', 'but', 'this', 'must', 'simply', 'be', 'their', 'worst', 'role', 'in', 'history', '.', 'Even', 'their', 'great', 'acting', 'could', 'not', 'redeem', 'this', \"movie's\", 'ridiculous', 'storyline', '.', 'This', 'movie', 'is', 'an', 'early', 'nineties', 'US', 'propaganda', 'piece', '.', 'The', 'most', 'pathetic', 'scenes', 'were', 'those', 'when', 'the', 'Columbian', 'rebels', 'were', 'making', 'their', 'cases', 'for', 'revolutions', '.', 'Maria', 'Conchita', 'Alonso', 'appeared', 'phony', ',', 'and', 'her', '<UNK>', 'affair', 'with', 'Walken', 'was', 'nothing', 'but', 'a', 'pathetic', 'emotional', 'plug', 'in', 'a', 'movie', 'that', 'was', 'devoid', 'of', 'any', 'real', 'meaning', '.', 'I', 'am', 'disappointed', 'that', 'there', 'are', 'movies', 'like', 'this', ',', 'ruining', \"actor's\", 'like', 'Christopher', \"Walken's\", 'good', 'name', '.', 'I', 'could', 'barely', 'sit', 'through', 'it', '.']]\n"
     ]
    }
   ],
   "source": [
    "VOCAB_SIZE = 50000\n",
    "\n",
    "tokenizer = Tokenizer(VOCAB_SIZE)\n",
    "\n",
    "sentences = []\n",
    "for text_tensor, _ in imdb_train:\n",
    "    sentences.append(text_tensor.numpy().decode('utf-8'))\n",
    "start_time = time.time()\n",
    "tokenizer.train_tokenizer(sentences)\n",
    "print('Tokenizer train time:', time.time() - start_time)\n",
    "\n",
    "FINAL_N_VOCAB = tokenizer.n_words\n",
    "print(f'n_vocab: {FINAL_N_VOCAB}')\n",
    "\n",
    "for text_tensor, _ in imdb_train.take(1):\n",
    "    print(tokenizer.tokenize(text_tensor.numpy().decode('utf-8')))\n",
    "    encoded = tokenizer.encode([text_tensor.numpy().decode('utf-8')])\n",
    "    print(encoded)\n",
    "    print('Encoded length:', len(encoded[0]))\n",
    "    decoded = tokenizer.decode(encoded)\n",
    "    print(decoded)"
   ]
  },
  {
   "cell_type": "markdown",
   "metadata": {},
   "source": [
    "# Prepare Data"
   ]
  },
  {
   "cell_type": "code",
   "execution_count": 13,
   "metadata": {},
   "outputs": [
    {
     "name": "stdout",
     "output_type": "stream",
     "text": [
      "Train sample:\n",
      "(<tf.Tensor: shape=(150,), dtype=int64, numpy=\n",
      "array([ 4,  7,  8,  9, 10, 11, 13, 16, 17, 19, 20, 10, 21, 23, 24, 25, 28,\n",
      "       29, 31, 32, 33, 10, 34, 23, 35, 36, 37, 38, 39, 40, 41, 10,  4,  9,\n",
      "       43, 44, 45, 46, 47, 10, 48, 50, 51, 56, 57, 58, 59, 61, 10, 62, 63,\n",
      "       64, 65, 66, 25,  1, 69, 17, 71, 50, 73, 74,  9, 76, 79, 80, 10, 81,\n",
      "       83, 85, 86, 25, 87, 88, 86, 16, 89, 90, 91, 10, 81, 36, 92, 93, 10,\n",
      "        0,  0,  0,  0,  0,  0,  0,  0,  0,  0,  0,  0,  0,  0,  0,  0,  0,\n",
      "        0,  0,  0,  0,  0,  0,  0,  0,  0,  0,  0,  0,  0,  0,  0,  0,  0,\n",
      "        0,  0,  0,  0,  0,  0,  0,  0,  0,  0,  0,  0,  0,  0,  0,  0,  0,\n",
      "        0,  0,  0,  0,  0,  0,  0,  0,  0,  0,  0,  0,  0,  0])>, <tf.Tensor: shape=(), dtype=int64, numpy=0>)\n",
      "Val sample:\n",
      "(<tf.Tensor: shape=(150,), dtype=int64, numpy=\n",
      "array([ 4731,    25,   246, 12947,    25,  2073, 26293,  1275,   556,\n",
      "        9552,    10, 30481,  1290,    10,  2166, 22330,   546,   805,\n",
      "          25,    93, 33666,   591,    37,  1290,    10,   177,   178,\n",
      "         179,   180,   177,   178,   179,   180,  1788,  2247,   207,\n",
      "         264,   770,  3282,  2121,    25,   770,   278,  1290,  1144,\n",
      "         616,    10,   177,   178,   179,   180,   177,   178,   179,\n",
      "         180, 24369,  8850,   107,   543,   746,  7628, 14398,    10,\n",
      "         489, 21967, 40349,    10,    81,   888,   567,  4630,   385,\n",
      "          10,   554,   140,  2769,  1995,    25,  2025,   207,  1383,\n",
      "         644,  4915,   567,    25,   770,    10,   177,   178,   179,\n",
      "         180,   177,   178,   179,   180,    48,    35,   131,   626,\n",
      "          10,  2616,   118,     1, 15055,    10,   489,  3935,  3776,\n",
      "         207,   489,  3935,   252,  2564,   207,   372,  1293,  2922,\n",
      "         187,     1,    25,  4102, 42671,   207,     0,     0,     0,\n",
      "           0,     0,     0,     0,     0,     0,     0,     0,     0,\n",
      "           0,     0,     0,     0,     0,     0,     0,     0,     0,\n",
      "           0,     0,     0,     0,     0,     0])>, <tf.Tensor: shape=(), dtype=int64, numpy=0>)\n",
      "Test sample:\n",
      "(<tf.Tensor: shape=(150,), dtype=int64, numpy=\n",
      "array([  264,   103,   409, 12403,    10,  1962,   967, 14054,    25,\n",
      "       12797,  2274,  1932, 18156, 19004,   458,  9059, 10941,    25,\n",
      "           1,   458,  1913, 20090,    25, 48032,     1,    10,  3240,\n",
      "        3453,     1,     1,     7,  3648,     1,    10,     1,  3790,\n",
      "          25, 19570,  2502,  5212,    85,    10,    81,  3431,  1196,\n",
      "        3406,  1695,    81,  1235,  1932, 23390,     1,    10,   194,\n",
      "         307,    25,   209,    25,    81,   888,    81,  1196,   777,\n",
      "        3406,   848,    10,   561,  5230,    10,   197,     1,  1445,\n",
      "        3010,   445,     1,  5143,   492,  4497, 37076,   278,   358,\n",
      "          93,  2421,   747,     1, 15628,  3085,  2147,    25, 28817,\n",
      "          25, 31497, 27419,    10,  2228,  3837,  6129,  4895,   194,\n",
      "        5107,   578,     1,   415,   197,    25,   171,   297,  3008,\n",
      "         194,   639,  1350,  2570,  3078, 21913,   278, 18762,  1390,\n",
      "         123,    86,   197,    10,     1,   123,  1843,   550,   182,\n",
      "          10,     0,     0,     0,     0,     0,     0,     0,     0,\n",
      "           0,     0,     0,     0,     0,     0,     0,     0,     0,\n",
      "           0,     0,     0,     0,     0,     0])>, <tf.Tensor: shape=(), dtype=int64, numpy=1>)\n"
     ]
    }
   ],
   "source": [
    "MAX_LEN = 150\n",
    "\n",
    "def preprocess_input(text, label):\n",
    "    _text = text if isinstance(text, str) else text.numpy().decode('utf-8')\n",
    "    no_sw_tokenized_text = remove_stopwords(tokenizer.tokenize(_text))\n",
    "    encoded_text = pad_sequences(tokenizer.encode([no_sw_tokenized_text]), padding='post', truncating='post', maxlen=MAX_LEN)[0]\n",
    "    return encoded_text, label\n",
    "\n",
    "def fn(text, label):\n",
    "    encoded_text, label = tf.py_function(preprocess_input, \n",
    "                                       inp=[text, label], \n",
    "                                       Tout=(tf.int64, tf.int64))\n",
    "    encoded_text.set_shape([None])\n",
    "    label.set_shape([])\n",
    "    return encoded_text, label\n",
    "\n",
    "train = imdb_train.map(fn)\n",
    "val = imdb_val.map(fn)\n",
    "test = imdb_test.map(fn)\n",
    "\n",
    "print('Train sample:')\n",
    "for el in train.take(1):\n",
    "    print(el, end='\\n')\n",
    "print('Val sample:')\n",
    "for el in val.take(1):\n",
    "    print(el, end='\\n')\n",
    "print('Test sample:')\n",
    "for el in test.take(1):\n",
    "    print(el, end='\\n')"
   ]
  },
  {
   "cell_type": "code",
   "execution_count": 14,
   "metadata": {},
   "outputs": [
    {
     "name": "stdout",
     "output_type": "stream",
     "text": [
      "Text: [[  467   536  2344 ...  2373   848  5915]\n",
      " [  282  4047  5769 ... 10306 11230   680]\n",
      " [ 2958 49608 15000 ...   947   502   933]\n",
      " ...\n",
      " [ 1669  1276    81 ... 16193    25   409]\n",
      " [23442  2239  8015 ...     0     0     0]\n",
      " [43782   187   325 ...     0     0     0]]\n",
      "Label: [1 1 1 0 0 1 0 1 1 0 1 1 1 0 0 1 1 0 1 1 0 1 1 1 0 1 1 1 1 1 1 1]\n"
     ]
    }
   ],
   "source": [
    "BUFFER_SIZE = len(imdb_train)\n",
    "BATCH_SIZE = 32\n",
    "VOCAB_SIZE = VOCAB_SIZE\n",
    "\n",
    "train = train.shuffle(BUFFER_SIZE, reshuffle_each_iteration=False)\n",
    "train = train.batch(BATCH_SIZE)\n",
    "\n",
    "val = val.batch(BATCH_SIZE)\n",
    "\n",
    "test = test.batch(BATCH_SIZE)\n",
    "\n",
    "temp_text, temp_label = next(iter(train))\n",
    "print(f'Text: {temp_text}')\n",
    "print(f'Label: {temp_label}')"
   ]
  },
  {
   "cell_type": "code",
   "execution_count": 15,
   "metadata": {},
   "outputs": [
    {
     "data": {
      "text/plain": [
       "(<tf.Tensor: shape=(32, 150), dtype=int64, numpy=\n",
       " array([[  264,   103,   409, ...,     0,     0,     0],\n",
       "        [  274,     1,   833, ...,   272,  1390, 13747],\n",
       "        [ 9924,  1566,     1, ...,    25,  5461,   291],\n",
       "        ...,\n",
       "        [11109, 25249, 25250, ...,    10,    48,   306],\n",
       "        [  544,    25,    81, ...,   625,   829, 17733],\n",
       "        [   81,  1235,     9, ...,     0,     0,     0]])>,\n",
       " <tf.Tensor: shape=(32,), dtype=int64, numpy=\n",
       " array([1, 1, 0, 0, 1, 1, 1, 1, 0, 1, 0, 0, 1, 0, 1, 0, 1, 0, 1, 0, 0, 1,\n",
       "        0, 0, 1, 1, 0, 0, 0, 1, 1, 1])>)"
      ]
     },
     "execution_count": 15,
     "metadata": {},
     "output_type": "execute_result"
    }
   ],
   "source": [
    "next(iter(train.take(1)))\n",
    "next(iter(val.take(1)))\n",
    "next(iter(test.take(1)))"
   ]
  },
  {
   "cell_type": "markdown",
   "metadata": {},
   "source": [
    "# Model Building"
   ]
  },
  {
   "cell_type": "markdown",
   "metadata": {},
   "source": [
    "## Definition"
   ]
  },
  {
   "cell_type": "code",
   "execution_count": null,
   "metadata": {},
   "outputs": [],
   "source": [
    "# print(model.layers[0].compute_mask(tf.Variable([[1,2,3,0,0,0]], dtype=tf.float32)))"
   ]
  },
  {
   "cell_type": "code",
   "execution_count": 15,
   "metadata": {},
   "outputs": [],
   "source": [
    "TASK_NAME = 'sent_analysis'\n",
    "EXP_NO = 5\n",
    "\n",
    "EMBEDDING_SIZE = 100\n",
    "HIDDEN_SIZE = 64\n",
    "LEARNING_RATE = 0.001\n",
    "\n",
    "################################################## NEW MODEL ##################################################\n",
    "model = tf.keras.Sequential()\n",
    "model.add(tf.keras.layers.Embedding(FINAL_N_VOCAB, EMBEDDING_SIZE, mask_zero=True))\n",
    "model.add(tf.keras.layers.Dropout(0.3))\n",
    "model.add(tf.keras.layers.Bidirectional(tf.keras.layers.LSTM(HIDDEN_SIZE, dropout=0.3)))\n",
    "model.add(tf.keras.layers.Dense(1, activation='sigmoid'))\n",
    "\n",
    "\n",
    "lr_schedule = tf.keras.optimizers.schedules.ExponentialDecay(\n",
    "    LEARNING_RATE,\n",
    "    decay_steps=625,\n",
    "    decay_rate=0.8,\n",
    "    staircase=True)\n",
    "opt = tf.keras.optimizers.Adam(\n",
    "    learning_rate=lr_schedule, beta_1=0.9, beta_2=0.999, epsilon=1e-07, amsgrad=False,\n",
    ")\n",
    "\n",
    "model_name = f'{TASK_NAME}_{EXP_NO:03d}'\n",
    "\n",
    "filepath = f'model/sentiment_analysis/checkpoints/{model_name}' + '_epoch{epoch:02d}_val-loss{val_loss:.2f}_val-acc{val_accuracy:.2f}.h5'\n",
    "checkpoint = tf.keras.callbacks.ModelCheckpoint(filepath, monitor='val_loss', verbose=1, save_best_only=True, mode='min')\n",
    "\n",
    "log_dir = f'./logs/sentiment_analysis/{model_name}_{datetime.datetime.now().strftime(\"%Y%m%d-%H%M%S\")}'\n",
    "tensorboard_callback = tf.keras.callbacks.TensorBoard(log_dir=log_dir, histogram_freq=1)\\\n",
    "\n",
    "model.compile(optimizer=opt,\n",
    "             loss=tf.keras.losses.BinaryCrossentropy(),\n",
    "             metrics=['accuracy'])"
   ]
  },
  {
   "cell_type": "code",
   "execution_count": 16,
   "metadata": {},
   "outputs": [],
   "source": [
    "################################################## LOAD MODEL ##################################################\n",
    "# model = tf.keras.models.load_model('model/sentiment_analysis/checkpoints/sent_analysis_005_epoch01_val-loss0.32_val-acc0.87.h5')"
   ]
  },
  {
   "cell_type": "code",
   "execution_count": 17,
   "metadata": {},
   "outputs": [
    {
     "name": "stdout",
     "output_type": "stream",
     "text": [
      "Model: \"sequential_2\"\n",
      "_________________________________________________________________\n",
      "Layer (type)                 Output Shape              Param #   \n",
      "=================================================================\n",
      "embedding_2 (Embedding)      (None, None, 100)         5000400   \n",
      "_________________________________________________________________\n",
      "dropout_2 (Dropout)          (None, None, 100)         0         \n",
      "_________________________________________________________________\n",
      "bidirectional_2 (Bidirection (None, 128)               84480     \n",
      "_________________________________________________________________\n",
      "dense_2 (Dense)              (None, 1)                 129       \n",
      "=================================================================\n",
      "Total params: 5,085,009\n",
      "Trainable params: 5,085,009\n",
      "Non-trainable params: 0\n",
      "_________________________________________________________________\n"
     ]
    }
   ],
   "source": [
    "model.summary()"
   ]
  },
  {
   "cell_type": "markdown",
   "metadata": {},
   "source": [
    "## Training"
   ]
  },
  {
   "cell_type": "code",
   "execution_count": 50,
   "metadata": {},
   "outputs": [
    {
     "name": "stdout",
     "output_type": "stream",
     "text": [
      "Epoch 1/3\n",
      "  2/625 [..............................] - ETA: 2:19 - loss: 0.6926 - accuracy: 0.5000WARNING:tensorflow:Callbacks method `on_train_batch_end` is slow compared to the batch time (batch time: 0.1473s vs `on_train_batch_end` time: 0.3002s). Check your callbacks.\n"
     ]
    },
    {
     "name": "stderr",
     "output_type": "stream",
     "text": [
      "WARNING:tensorflow:Callbacks method `on_train_batch_end` is slow compared to the batch time (batch time: 0.1473s vs `on_train_batch_end` time: 0.3002s). Check your callbacks.\n"
     ]
    },
    {
     "name": "stdout",
     "output_type": "stream",
     "text": [
      "625/625 [==============================] - ETA: 0s - loss: 0.4112 - accuracy: 0.8069\n",
      "Epoch 00001: val_loss improved from inf to 0.32052, saving model to model/sentiment_analysis/checkpoints/sent_analysis_005_01_0.32_0.87.h5\n",
      "625/625 [==============================] - 93s 149ms/step - loss: 0.4112 - accuracy: 0.8069 - val_loss: 0.3205 - val_accuracy: 0.8686\n",
      "Epoch 2/3\n",
      "625/625 [==============================] - ETA: 0s - loss: 0.1596 - accuracy: 0.9423\n",
      "Epoch 00002: val_loss did not improve from 0.32052\n",
      "625/625 [==============================] - 90s 144ms/step - loss: 0.1596 - accuracy: 0.9423 - val_loss: 0.3414 - val_accuracy: 0.8668\n",
      "Epoch 3/3\n",
      "625/625 [==============================] - ETA: 0s - loss: 0.0727 - accuracy: 0.9768\n",
      "Epoch 00003: val_loss did not improve from 0.32052\n",
      "625/625 [==============================] - 91s 146ms/step - loss: 0.0727 - accuracy: 0.9768 - val_loss: 0.4773 - val_accuracy: 0.8576\n"
     ]
    }
   ],
   "source": [
    "history = model.fit(train, epochs=3,\n",
    "                    validation_data=val,\n",
    "                    callbacks=[tensorboard_callback, checkpoint])"
   ]
  },
  {
   "cell_type": "code",
   "execution_count": 18,
   "metadata": {},
   "outputs": [
    {
     "name": "stdout",
     "output_type": "stream",
     "text": [
      "Current LR: 0.0008\n"
     ]
    }
   ],
   "source": [
    "print('Current LR:', round(model.optimizer._decayed_lr(tf.float32).numpy(), 5))"
   ]
  },
  {
   "cell_type": "code",
   "execution_count": 52,
   "metadata": {},
   "outputs": [
    {
     "data": {
      "image/png": "[encoded data removed]",
      "text/plain": [
       "<Figure size 432x288 with 1 Axes>"
      ]
     },
     "metadata": {
      "needs_background": "light"
     },
     "output_type": "display_data"
    },
    {
     "data": {
      "image/png": "[encoded data removed]",
      "text/plain": [
       "<Figure size 432x288 with 1 Axes>"
      ]
     },
     "metadata": {
      "needs_background": "light"
     },
     "output_type": "display_data"
    }
   ],
   "source": [
    "plt.title('Loss')\n",
    "plt.plot(history.history.get('loss'), label='train')\n",
    "plt.plot(history.history.get('val_loss'), label='validation')\n",
    "plt.legend()\n",
    "plt.show()\n",
    "\n",
    "plt.title('Accuracy')\n",
    "accuracy = history.history.get('accuracy') or history.history.get('acc')\n",
    "val_accuracy = history.history.get('val_accuracy') or history.history.get('val_acc')\n",
    "plt.plot(accuracy, label='train')\n",
    "plt.plot(val_accuracy, label='validation')\n",
    "plt.legend()\n",
    "plt.show()"
   ]
  },
  {
   "cell_type": "markdown",
   "metadata": {},
   "source": [
    "## Evaluation"
   ]
  },
  {
   "cell_type": "code",
   "execution_count": 19,
   "metadata": {},
   "outputs": [
    {
     "name": "stdout",
     "output_type": "stream",
     "text": [
      "782/782 [==============================] - 39s 50ms/step - loss: 0.3529 - accuracy: 0.8514\n"
     ]
    }
   ],
   "source": [
    "loss, accuracy = model.evaluate(test)"
   ]
  },
  {
   "cell_type": "code",
   "execution_count": 20,
   "metadata": {},
   "outputs": [],
   "source": [
    "def convert_to_binary(value):\n",
    "    return 1 if value >= 0.5 else 0"
   ]
  },
  {
   "cell_type": "code",
   "execution_count": 65,
   "metadata": {},
   "outputs": [
    {
     "name": "stdout",
     "output_type": "stream",
     "text": [
      "Predicted negative sentiment count: 11730\n"
     ]
    }
   ],
   "source": [
    "predictions = model.predict(test)\n",
    "y_pred = np.array(list(map(convert_to_binary, predictions)))\n",
    "print('Predicted negative sentiment count:', y_pred[y_pred != 0].sum())\n",
    "\n",
    "y_label = []\n",
    "for _, label in test:\n",
    "    y_label.extend(label.numpy().tolist())\n",
    "y_label = np.array(y_label)"
   ]
  },
  {
   "cell_type": "code",
   "execution_count": 64,
   "metadata": {},
   "outputs": [
    {
     "name": "stdout",
     "output_type": "stream",
     "text": [
      "              precision    recall  f1-score   support\n",
      "\n",
      "    negative     0.8310    0.8822    0.8559     12500\n",
      "    positive     0.8745    0.8206    0.8467     12500\n",
      "\n",
      "    accuracy                         0.8514     25000\n",
      "   macro avg     0.8528    0.8514    0.8513     25000\n",
      "weighted avg     0.8528    0.8514    0.8513     25000\n",
      "\n"
     ]
    }
   ],
   "source": [
    "print(classification_report(y_label, y_pred, target_names=['negative', 'positive'], digits=4))"
   ]
  },
  {
   "cell_type": "markdown",
   "metadata": {},
   "source": [
    "## Free Input Prediction"
   ]
  },
  {
   "cell_type": "code",
   "execution_count": 55,
   "metadata": {},
   "outputs": [
    {
     "name": "stdout",
     "output_type": "stream",
     "text": [
      "[[0.24782044]]\n",
      "negative\n"
     ]
    }
   ],
   "source": [
    "custom_input, _ = preprocess_input(\"I love this movie. The plot was terrible but the rest were really well prepared\", None)\n",
    "custom_input = np.expand_dims(custom_input, axis=0)\n",
    "p = model.predict(custom_input)\n",
    "result = convert_to_binary(np.squeeze(p))\n",
    "print(p)\n",
    "print('positive' if result else 'negative')"
   ]
  },
  {
   "cell_type": "code",
   "execution_count": null,
   "metadata": {},
   "outputs": [],
   "source": []
  }
 ],
 "metadata": {
  "kernelspec": {
   "display_name": "dl_practice",
   "language": "python",
   "name": "dl_practice"
  },
  "language_info": {
   "codemirror_mode": {
    "name": "ipython",
    "version": 3
   },
   "file_extension": ".py",
   "mimetype": "text/x-python",
   "name": "python",
   "nbconvert_exporter": "python",
   "pygments_lexer": "ipython3",
   "version": "3.7.5"
  }
 },
 "nbformat": 4,
 "nbformat_minor": 4
}
