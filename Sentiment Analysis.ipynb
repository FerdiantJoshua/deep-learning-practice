{
 "cells": [
  {
   "cell_type": "code",
   "execution_count": 1,
   "metadata": {},
   "outputs": [
    {
     "data": {
      "text/plain": [
       "'3.7.5 (default, Nov  7 2019, 10:50:52) \\n[GCC 8.3.0]'"
      ]
     },
     "execution_count": 1,
     "metadata": {},
     "output_type": "execute_result"
    }
   ],
   "source": [
    "import sys\n",
    "sys.version"
   ]
  },
  {
   "cell_type": "code",
   "execution_count": 2,
   "metadata": {},
   "outputs": [],
   "source": [
    "import re\n",
    "import time\n",
    "from typing import List, Union\n",
    "\n",
    "import tensorflow as tf\n",
    "from tensorflow.keras.preprocessing.sequence import pad_sequences\n",
    "import tensorflow_datasets as tfds\n",
    "from unidecode import unidecode"
   ]
  },
  {
   "cell_type": "code",
   "execution_count": 107,
   "metadata": {},
   "outputs": [
    {
     "name": "stdout",
     "output_type": "stream",
     "text": [
      "Version:  2.3.0\n",
      "Eager mode:  True\n",
      "GPU is NOT AVAILABLE\n"
     ]
    }
   ],
   "source": [
    "print(\"Version: \", tf.__version__)\n",
    "print(\"Eager mode: \", tf.executing_eagerly())\n",
    "print(\"GPU is\", \"available\" if tf.config.experimental.list_physical_devices(\"GPU\") else \"NOT AVAILABLE\")"
   ]
  },
  {
   "cell_type": "code",
   "execution_count": 3,
   "metadata": {},
   "outputs": [
    {
     "name": "stdout",
     "output_type": "stream",
     "text": [
      "Label info:\n",
      "2\n",
      "['neg', 'pos']\n",
      "neg\n",
      "1\n",
      "\n",
      "Feature info:\n",
      "{'text': (), 'label': ()}\n",
      "{'text': tf.string, 'label': tf.int64}\n",
      "()\n",
      "<dtype: 'string'>\n",
      "\n",
      "Datasplit info:\n",
      "dict_keys(['test', 'train', 'unsupervised'])\n",
      "25000\n",
      "['imdb_reviews-train.tfrecord-00000-of-00001']\n",
      "1\n"
     ]
    }
   ],
   "source": [
    "imdb_reviews, info = tfds.load('imdb_reviews', with_info=True)\n",
    "# ds = ds.shuffle(1024).batch(32).prefetch(tf.data.experimental.AUTOTUNE)\n",
    "\n",
    "print('Label info:')\n",
    "print(info.features[\"label\"].num_classes)\n",
    "print(info.features[\"label\"].names)\n",
    "print(info.features[\"label\"].int2str(0))  # Human readable version (8 -> 'cat')\n",
    "print(info.features[\"label\"].str2int('pos'))\n",
    "\n",
    "print()\n",
    "print('Feature info:')\n",
    "print(info.features.shape)\n",
    "print(info.features.dtype)\n",
    "print(info.features['text'].shape)\n",
    "print(info.features['text'].dtype)\n",
    "\n",
    "print()\n",
    "print('Datasplit info:')\n",
    "print(info.splits.keys())\n",
    "print(info.splits['train'].num_examples)\n",
    "print(info.splits['train'].filenames)\n",
    "print(info.splits['train'].num_shards)"
   ]
  },
  {
   "cell_type": "code",
   "execution_count": 4,
   "metadata": {},
   "outputs": [
    {
     "name": "stdout",
     "output_type": "stream",
     "text": [
      "20000\n",
      "5000\n",
      "25000\n"
     ]
    }
   ],
   "source": [
    "SPLIT_PERCENT = 80\n",
    "\n",
    "imdb_train = tfds.load('imdb_reviews', split=f'train[:{SPLIT_PERCENT}%]', as_supervised=True)\n",
    "imdb_val = tfds.load('imdb_reviews', split=f'train[{SPLIT_PERCENT}%:]', as_supervised=True)\n",
    "imdb_test = tfds.load('imdb_reviews', split='test', as_supervised=True)\n",
    "\n",
    "print(len(imdb_train))\n",
    "print(len(imdb_val))\n",
    "print(len(imdb_test))"
   ]
  },
  {
   "cell_type": "code",
   "execution_count": 5,
   "metadata": {},
   "outputs": [
    {
     "name": "stdout",
     "output_type": "stream",
     "text": [
      "(<tf.Tensor: shape=(), dtype=string, numpy=b\"This was an absolutely terrible movie. Don't be lured in by Christopher Walken or Michael Ironside. Both are great actors, but this must simply be their worst role in history. Even their great acting could not redeem this movie's ridiculous storyline. This movie is an early nineties US propaganda piece. The most pathetic scenes were those when the Columbian rebels were making their cases for revolutions. Maria Conchita Alonso appeared phony, and her pseudo-love affair with Walken was nothing but a pathetic emotional plug in a movie that was devoid of any real meaning. I am disappointed that there are movies like this, ruining actor's like Christopher Walken's good name. I could barely sit through it.\">, <tf.Tensor: shape=(), dtype=int64, numpy=0>)\n",
      "(<tf.Tensor: shape=(), dtype=string, numpy=b'I have been known to fall asleep during films, but this is usually due to a combination of things including, really tired, being warm and comfortable on the sette and having just eaten a lot. However on this occasion I fell asleep because the film was rubbish. The plot development was constant. Constantly slow and boring. Things seemed to happen, but with no explanation of what was causing them or why. I admit, I may have missed part of the film, but i watched the majority of it and everything just seemed to happen of its own accord without any real concern for anything else. I cant recommend this film at all.'>, <tf.Tensor: shape=(), dtype=int64, numpy=0>)\n"
     ]
    }
   ],
   "source": [
    "for elm in imdb_train.take(2):\n",
    "    print(elm)\n",
    "#     text, label = elm['text'], elm['label']\n",
    "#     print('Text:', text)\n",
    "#     print('Label:', label)\n",
    "#     print()"
   ]
  },
  {
   "cell_type": "code",
   "execution_count": 82,
   "metadata": {},
   "outputs": [
    {
     "name": "stdout",
     "output_type": "stream",
     "text": [
      "tf.Tensor(b'Surreal film noir released soon after the \"real,\" genre-defining classics \"The Maltese Falcon,\" \"Double Indemnity\" and \"The Postman Always Rings Twice.\" Welles films shouldn\\'t be evaluated against others. He was playing by different rules. In fact, he was playing. This starts where other femme fatale films leave off, so the vaguely logical (but interesting) whodunit is embellished with a display of Wellesian scenes (typical rapid-fire style), dialog (lots of \"hard-boiled\" philosophy), and unusual acting (good Hayworth presumably intentionally one-dimensional). To Welles \"genre\" may have meant \"formula\" but he seemed to like using \"mysteries\" as backgrounds for his \"entertainments.\"', shape=(), dtype=string)\n",
      "tf.Tensor(1, shape=(), dtype=int64)\n"
     ]
    }
   ],
   "source": [
    "for text, label in imdb_val.shuffle(25000, reshuffle_each_iteration=False).take(1):\n",
    "    print(text)\n",
    "    print(label)"
   ]
  },
  {
   "cell_type": "code",
   "execution_count": 83,
   "metadata": {},
   "outputs": [],
   "source": [
    "# Complete punctuation from string.punctuation: !\"#$%&'()*+,-./:;<=>?@[\\\\]^_`{|}~\n",
    "\n",
    "class Tokenizer:\n",
    "    NON_ASCII_REGEX = re.compile(r\"[^\\x00-\\x7F\\u2013]\")\n",
    "    PUNCTUATIONS = '!\"#$%&\\'()*+/;<=>@?[\\\\]^_`{|}~'\n",
    "    PUNCTUATIONS_REGEX = re.compile(r\"([%s])\" % PUNCTUATIONS)\n",
    "    REAL_SEPARATOR_REGEX = re.compile(r\"(([\\.,:][^a-zA-Z0-9])|([\\.,:]$))\")\n",
    "    \n",
    "    def __init__(self, max_vocab=50000, lower=False, normalize=False, remove_non_ascii=False,\n",
    "                 pad_token='<PAD>', unk_token='<UNK>', bos_token='<BOS>', eos_token='<EOS>'):\n",
    "        if normalize and remove_non_ascii:\n",
    "            raise ValueError('You can only choose between normalize/remove_non_ascii!')\n",
    "        self.max_vocab = max_vocab\n",
    "        self.lower = lower\n",
    "        self.normalize = normalize\n",
    "        self.remove_non_ascii = remove_non_ascii\n",
    "        self.word2index = {}\n",
    "        self.word2count = {}\n",
    "        self.index2word = {}\n",
    "        self.n_words = 0\n",
    "        \n",
    "        self.pad_token = pad_token\n",
    "        self.unk_token = unk_token\n",
    "        self.bos_token = bos_token\n",
    "        self.eos_token = eos_token\n",
    "        self.add_words([pad_token, unk_token, bos_token, eos_token])\n",
    "            \n",
    "    def train_tokenizer(self, text: Union[str, List[str]]):\n",
    "        tokenized_text = []\n",
    "        if isinstance(text, str):\n",
    "            tokenized_text.extend(self.tokenize(text))\n",
    "        elif isinstance(text, list):\n",
    "            for sentence in text:\n",
    "                tokenized_text.extend(self.tokenize(sentence))\n",
    "                \n",
    "        self.add_words(tokenized_text)\n",
    "        self.word2count = {k: v for k, v in sorted(self.word2count.items(), key=lambda item: item[1], reverse=True)}\n",
    "        if self.n_words > self.max_vocab:\n",
    "            print(f'Least frequent words will be removed until n_vocab = {self.max_vocab} (excluding special tokens)')\n",
    "            words_to_remove = list(self.word2count.keys())[self.max_vocab:]\n",
    "            self.remove_words(words_to_remove, restructure_index=True)\n",
    "        \n",
    "    def encode(self, texts:List[str]):\n",
    "        list_of_tokens = []\n",
    "        for text in texts:\n",
    "            tokenized_text = self.tokenize(text)\n",
    "            list_of_tokens.append([self.word2index.get(token) or self.word2index[self.unk_token] for token in tokenized_text])\n",
    "        return list_of_tokens\n",
    "            \n",
    "    def decode(self, list_of_tokens:List[List[int]], to_string=False):\n",
    "        output = []\n",
    "        for tokens in list_of_tokens:\n",
    "            tokens = [self.index2word[token] for token in tokens]\n",
    "            if to_string:\n",
    "                output.append(' '.join(tokens))\n",
    "            else:\n",
    "                output.append(tokens)\n",
    "        return output\n",
    "    \n",
    "    def tokenize(self, s):\n",
    "        if self.lower:\n",
    "            s = s.lower()\n",
    "        if self.normalize:\n",
    "            s = self._unicode_to_ascii(s)\n",
    "        if self.remove_non_ascii:\n",
    "            s = _remove_non_ascii(s)\n",
    "        s = re.sub(self.PUNCTUATIONS_REGEX, r\" \\1 \", s)\n",
    "        s = re.sub(self.REAL_SEPARATOR_REGEX, r\" \\1\", s)\n",
    "        s = s.split()\n",
    "        return s\n",
    "\n",
    "    def add_words(self, list_of_words):\n",
    "        for word in list_of_words:\n",
    "            self.add_word(word)\n",
    "\n",
    "    def add_word(self, word):\n",
    "        if word not in self.word2index:\n",
    "            self.word2index[word] = self.n_words\n",
    "            self.word2count[word] = 1\n",
    "            self.index2word[self.n_words] = word\n",
    "            self.n_words += 1\n",
    "        else:\n",
    "            self.word2count[word] += 1\n",
    "\n",
    "    def remove_words(self, list_of_words, restructure_index=False):\n",
    "        for word in list_of_words:\n",
    "            self.remove_word(word)\n",
    "        if restructure_index:\n",
    "            self._restructure_index()\n",
    "\n",
    "    def remove_word(self, word, restructure_index=False):\n",
    "        if word not in self.word2index:\n",
    "            raise ValueError(f'{word} does not exist in the dictionary.')\n",
    "        elif word in [self.pad_token, self.unk_token, self.bos_token, self.eos_token]:\n",
    "            pass\n",
    "        else:\n",
    "            del self.index2word[self.word2index[word]]\n",
    "            del self.word2index[word]\n",
    "            del self.word2count[word]\n",
    "            self.n_words -= 1\n",
    "        if restructure_index:\n",
    "            self._restructure_index()\n",
    "        \n",
    "    def _unicode_to_ascii(self, s):\n",
    "        return unidecode(s)\n",
    "\n",
    "    def _remove_non_ascii(self, s):\n",
    "        return re.sub(self.NON_ASCII_REGEX, r\"\", s)\n",
    "\n",
    "    def _restructure_index(self):\n",
    "        self.index2word = {}\n",
    "        i = 0\n",
    "        for word in self.word2index:\n",
    "            self.index2word[i] = word\n",
    "            self.word2index[word] = i            \n",
    "            i += 1\n",
    "        assert i == self.n_words"
   ]
  },
  {
   "cell_type": "code",
   "execution_count": 81,
   "metadata": {},
   "outputs": [
    {
     "name": "stdout",
     "output_type": "stream",
     "text": [
      "Execution time: 3.882234811782837\n",
      "n_vocab: 110396\n",
      "['This', 'was', 'an', 'absolutely', 'terrible', 'movie', '.', 'Don', \"'\", 't', 'be', 'lured', 'in', 'by', 'Christopher', 'Walken', 'or', 'Michael', 'Ironside', '.', 'Both', 'are', 'great', 'actors', ',', 'but', 'this', 'must', 'simply', 'be', 'their', 'worst', 'role', 'in', 'history', '.', 'Even', 'their', 'great', 'acting', 'could', 'not', 'redeem', 'this', 'movie', \"'\", 's', 'ridiculous', 'storyline', '.', 'This', 'movie', 'is', 'an', 'early', 'nineties', 'US', 'propaganda', 'piece', '.', 'The', 'most', 'pathetic', 'scenes', 'were', 'those', 'when', 'the', 'Columbian', 'rebels', 'were', 'making', 'their', 'cases', 'for', 'revolutions', '.', 'Maria', 'Conchita', 'Alonso', 'appeared', 'phony', ',', 'and', 'her', 'pseudo-love', 'affair', 'with', 'Walken', 'was', 'nothing', 'but', 'a', 'pathetic', 'emotional', 'plug', 'in', 'a', 'movie', 'that', 'was', 'devoid', 'of', 'any', 'real', 'meaning', '.', 'I', 'am', 'disappointed', 'that', 'there', 'are', 'movies', 'like', 'this', ',', 'ruining', 'actor', \"'\", 's', 'like', 'Christopher', 'Walken', \"'\", 's', 'good', 'name', '.', 'I', 'could', 'barely', 'sit', 'through', 'it', '.']\n",
      "[[4, 5, 6, 7, 8, 9, 10, 11, 12, 13, 14, 15, 16, 17, 18, 19, 20, 21, 22, 10, 23, 24, 25, 26, 27, 28, 29, 30, 31, 14, 32, 33, 34, 16, 35, 10, 36, 32, 25, 37, 38, 39, 40, 29, 9, 12, 41, 42, 43, 10, 4, 9, 44, 6, 45, 46, 47, 48, 49, 10, 50, 51, 52, 53, 54, 55, 56, 57, 58, 59, 54, 60, 32, 61, 62, 63, 10, 64, 65, 66, 67, 68, 27, 69, 70, 71, 72, 73, 19, 5, 74, 28, 75, 52, 76, 77, 16, 75, 9, 78, 5, 79, 80, 81, 82, 83, 10, 84, 85, 86, 78, 87, 24, 88, 89, 29, 27, 90, 91, 12, 41, 89, 18, 19, 12, 41, 92, 93, 10, 84, 38, 94, 95, 96, 97, 10]]\n",
      "[['This', 'was', 'an', 'absolutely', 'terrible', 'movie', '.', 'Don', \"'\", 't', 'be', 'lured', 'in', 'by', 'Christopher', 'Walken', 'or', 'Michael', 'Ironside', '.', 'Both', 'are', 'great', 'actors', ',', 'but', 'this', 'must', 'simply', 'be', 'their', 'worst', 'role', 'in', 'history', '.', 'Even', 'their', 'great', 'acting', 'could', 'not', 'redeem', 'this', 'movie', \"'\", 's', 'ridiculous', 'storyline', '.', 'This', 'movie', 'is', 'an', 'early', 'nineties', 'US', 'propaganda', 'piece', '.', 'The', 'most', 'pathetic', 'scenes', 'were', 'those', 'when', 'the', 'Columbian', 'rebels', 'were', 'making', 'their', 'cases', 'for', 'revolutions', '.', 'Maria', 'Conchita', 'Alonso', 'appeared', 'phony', ',', 'and', 'her', 'pseudo-love', 'affair', 'with', 'Walken', 'was', 'nothing', 'but', 'a', 'pathetic', 'emotional', 'plug', 'in', 'a', 'movie', 'that', 'was', 'devoid', 'of', 'any', 'real', 'meaning', '.', 'I', 'am', 'disappointed', 'that', 'there', 'are', 'movies', 'like', 'this', ',', 'ruining', 'actor', \"'\", 's', 'like', 'Christopher', 'Walken', \"'\", 's', 'good', 'name', '.', 'I', 'could', 'barely', 'sit', 'through', 'it', '.']]\n"
     ]
    }
   ],
   "source": [
    "vocab_dict = VocabDict()\n",
    "tokenizer = Tokenizer(200000)\n",
    "\n",
    "sentences = []\n",
    "for text_tensor, _ in imdb_train:\n",
    "    sentences.append(text_tensor.numpy().decode('utf-8'))\n",
    "start_time = time.time()\n",
    "tokenizer.train_tokenizer(sentences)\n",
    "print('Execution time:', time.time() - start_time)\n",
    "\n",
    "print(f'n_vocab: {tokenizer.n_words}')\n",
    "\n",
    "for text_tensor, _ in imdb_train.take(1):\n",
    "    print(tokenizer.tokenize(text_tensor.numpy().decode('utf-8')))\n",
    "    encoded = tokenizer.encode([text_tensor.numpy().decode('utf-8')])\n",
    "    print(encoded)\n",
    "    decoded = tokenizer.decode(encoded)\n",
    "    print(decoded)"
   ]
  },
  {
   "cell_type": "code",
   "execution_count": 162,
   "metadata": {},
   "outputs": [
    {
     "data": {
      "text/plain": [
       "<function tensorflow.python.ops.control_flow_ops.tuple_v2(tensors, control_inputs=None, name=None)>"
      ]
     },
     "execution_count": 162,
     "metadata": {},
     "output_type": "execute_result"
    }
   ],
   "source": [
    "# for el in imdb_train:\n",
    "#     print(el)\n",
    "tf.tuple"
   ]
  },
  {
   "cell_type": "code",
   "execution_count": 179,
   "metadata": {},
   "outputs": [
    {
     "name": "stdout",
     "output_type": "stream",
     "text": [
      "Tensor(\"add:0\", shape=(), dtype=string)\n",
      "(<tf.Tensor: shape=(), dtype=string, numpy=b\"This was an absolutely terrible movie. Don't be lured in by Christopher Walken or Michael Ironside. Both are great actors, but this must simply be their worst role in history. Even their great acting could not redeem this movie's ridiculous storyline. This movie is an early nineties US propaganda piece. The most pathetic scenes were those when the Columbian rebels were making their cases for revolutions. Maria Conchita Alonso appeared phony, and her pseudo-love affair with Walken was nothing but a pathetic emotional plug in a movie that was devoid of any real meaning. I am disappointed that there are movies like this, ruining actor's like Christopher Walken's good name. I could barely sit through it.1\">, <tf.Tensor: shape=(), dtype=int64, numpy=0>)\n",
      "(<tf.Tensor: shape=(), dtype=string, numpy=b'I have been known to fall asleep during films, but this is usually due to a combination of things including, really tired, being warm and comfortable on the sette and having just eaten a lot. However on this occasion I fell asleep because the film was rubbish. The plot development was constant. Constantly slow and boring. Things seemed to happen, but with no explanation of what was causing them or why. I admit, I may have missed part of the film, but i watched the majority of it and everything just seemed to happen of its own accord without any real concern for anything else. I cant recommend this film at all.1'>, <tf.Tensor: shape=(), dtype=int64, numpy=0>)\n",
      "(<tf.Tensor: shape=(), dtype=string, numpy=b'Mann photographs the Alberta Rocky Mountains in a superb fashion, and Jimmy Stewart and Walter Brennan give enjoyable performances as they always seem to do. <br /><br />But come on Hollywood - a Mountie telling the people of Dawson City, Yukon to elect themselves a marshal (yes a marshal!) and to enforce the law themselves, then gunfighters battling it out on the streets for control of the town? <br /><br />Nothing even remotely resembling that happened on the Canadian side of the border during the Klondike gold rush. Mr. Mann and company appear to have mistaken Dawson City for Deadwood, the Canadian North for the American Wild West.<br /><br />Canadian viewers be prepared for a Reefer Madness type of enjoyable howl with this ludicrous plot, or, to shake your head in disgust.1'>, <tf.Tensor: shape=(), dtype=int64, numpy=0>)\n",
      "(<tf.Tensor: shape=(), dtype=string, numpy=b'This is the kind of film for a snowy Sunday afternoon when the rest of the world can go ahead with its own business as you descend into a big arm-chair and mellow for a couple of hours. Wonderful performances from Cher and Nicolas Cage (as always) gently row the plot along. There are no rapids to cross, no dangerous waters, just a warm and witty paddle through New York life at its best. A family film in every sense and one that deserves the praise it received.1'>, <tf.Tensor: shape=(), dtype=int64, numpy=1>)\n",
      "(<tf.Tensor: shape=(), dtype=string, numpy=b'As others have mentioned, all the women that go nude in this film are mostly absolutely gorgeous. The plot very ably shows the hypocrisy of the female libido. When men are around they want to be pursued, but when no \"men\" are around, they become the pursuers of a 14 year old boy. And the boy becomes a man really fast (we should all be so lucky at this age!). He then gets up the courage to pursue his true love.1'>, <tf.Tensor: shape=(), dtype=int64, numpy=1>)\n"
     ]
    }
   ],
   "source": [
    "def preprocess_input(text, label):\n",
    "#     _text = pad_sequences(tokenizer.encode([text.numpy().decode('utf-8')]), padding='post')[0]\n",
    "    return text, label\n",
    "\n",
    "# imdb_train.take(1).apply(lambda x: tokenizer.encode(x.numpy().decode('utf-8')))\n",
    "for el in imdb_train.take(5).map(preprocess_input:\n",
    "    print(el, end='\\n')"
   ]
  },
  {
   "cell_type": "code",
   "execution_count": 67,
   "metadata": {},
   "outputs": [
    {
     "name": "stdout",
     "output_type": "stream",
     "text": [
      "[[11, 13, 32, 425, 380, 17], [18, 11, 213, 328]]\n",
      "[[ 11  13  32 425 380  17]\n",
      " [ 18  11 213 328   0   0]]\n"
     ]
    }
   ],
   "source": []
  },
  {
   "cell_type": "code",
   "execution_count": 79,
   "metadata": {},
   "outputs": [
    {
     "data": {
      "text/plain": [
       "keras_preprocessing.text.Tokenizer"
      ]
     },
     "execution_count": 79,
     "metadata": {},
     "output_type": "execute_result"
    }
   ],
   "source": []
  }
 ],
 "metadata": {
  "kernelspec": {
   "display_name": "dl_practice",
   "language": "python",
   "name": "dl_practice"
  },
  "language_info": {
   "codemirror_mode": {
    "name": "ipython",
    "version": 3
   },
   "file_extension": ".py",
   "mimetype": "text/x-python",
   "name": "python",
   "nbconvert_exporter": "python",
   "pygments_lexer": "ipython3",
   "version": "3.7.5"
  }
 },
 "nbformat": 4,
 "nbformat_minor": 4
}
